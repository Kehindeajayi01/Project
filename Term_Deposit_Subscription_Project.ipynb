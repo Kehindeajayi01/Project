{
  "nbformat": 4,
  "nbformat_minor": 0,
  "metadata": {
    "colab": {
      "name": "Ajayi_Project.ipynb",
      "provenance": [],
      "collapsed_sections": [],
      "toc_visible": true
    },
    "kernelspec": {
      "display_name": "Python 3",
      "name": "python3"
    }
  },
  "cells": [
    {
      "cell_type": "markdown",
      "metadata": {
        "id": "TkgxSTqHiPnU"
      },
      "source": [
        "- NAME: KEHINDE AJAYI\n",
        "- WEBPAGE: https://www.cs.odu.edu/~kajay/"
      ]
    },
    {
      "cell_type": "markdown",
      "metadata": {
        "id": "a5xnukJ1jgqm"
      },
      "source": [
        "## ABSTRACT\n",
        "- The data for this project was obtained from the UCI Machine Learning Repository. The data is related with direct marketing campaigns of a Portuguese banking institution. The marketing campaigns were based on phone calls. Often, more than one contact to the same client was required, in order to access if the product (bank term deposit) would be ('yes') or not ('no') subscribed. This is interesting because this data was collected via telemarketing approach from 2008 to 2012 which includes the effect of recent financial crisis. Therefore, knwoing the customers who will subscribe to long term deposit would help the bank design effective marketing campaigns.\n",
        "\n",
        "- The goal of this project is to build a machine learning model to predict if a client will subscribe (yes/no) to a term deposit (variable y).\n",
        "- Therefore, our target variable is the variable 'y'.\n"
      ]
    },
    {
      "cell_type": "markdown",
      "metadata": {
        "id": "xmrUDfXPzUnj"
      },
      "source": [
        "## Project Plan\n",
        "- For this project, I will like to carry out the following steps:\n",
        "    - Perform exploratory data analysis (EDA) to understand the relationship among the features and check for multicollinearity.\n",
        "    - Handle imbalance data issue (if applicable).\n",
        "    - Data visualization to further derive insights from the data.\n",
        "    - Compare different classification algorithms to model the data.\n",
        "    - Choose a suitable feature selection method to select important features.\n",
        "    - Perform hyperparameter tuning to improve model performance."
      ]
    },
    {
      "cell_type": "markdown",
      "metadata": {
        "id": "7-g7jNeFlP9G"
      },
      "source": [
        "# Obtaining the data\n",
        "- The URL for this dataset can be found in the below zip folder. I have also extracted the data and for this project, I will be working with the 'bank-full' data as that is a recent version."
      ]
    },
    {
      "cell_type": "code",
      "metadata": {
        "colab": {
          "base_uri": "https://localhost:8080/"
        },
        "id": "NND_4VUfepfN",
        "outputId": "730e0d56-44bf-4c6b-8a99-f333b8a2e023"
      },
      "source": [
        "# download the data from the website\n",
        "!wget https://archive.ics.uci.edu/ml/machine-learning-databases/00222/bank.zip\n"
      ],
      "execution_count": null,
      "outputs": [
        {
          "output_type": "stream",
          "text": [
            "--2021-04-05 21:40:46--  https://archive.ics.uci.edu/ml/machine-learning-databases/00222/bank.zip\n",
            "Resolving archive.ics.uci.edu (archive.ics.uci.edu)... 128.195.10.252\n",
            "Connecting to archive.ics.uci.edu (archive.ics.uci.edu)|128.195.10.252|:443... connected.\n",
            "HTTP request sent, awaiting response... 200 OK\n",
            "Length: 579043 (565K) [application/x-httpd-php]\n",
            "Saving to: ‘bank.zip.2’\n",
            "\n",
            "bank.zip.2          100%[===================>] 565.47K  2.12MB/s    in 0.3s    \n",
            "\n",
            "2021-04-05 21:40:46 (2.12 MB/s) - ‘bank.zip.2’ saved [579043/579043]\n",
            "\n"
          ],
          "name": "stdout"
        }
      ]
    },
    {
      "cell_type": "code",
      "metadata": {
        "colab": {
          "base_uri": "https://localhost:8080/"
        },
        "id": "sqhSAY-j_XIn",
        "outputId": "3f124d2f-c799-4397-810c-600e302b3a11"
      },
      "source": [
        "!unzip bank.zip.2"
      ],
      "execution_count": null,
      "outputs": [
        {
          "output_type": "stream",
          "text": [
            "Archive:  bank.zip.2\n",
            "replace bank-full.csv? [y]es, [n]o, [A]ll, [N]one, [r]ename: y\n",
            "  inflating: bank-full.csv           \n",
            "replace bank-names.txt? [y]es, [n]o, [A]ll, [N]one, [r]ename: y\n",
            "  inflating: bank-names.txt          \n",
            "replace bank.csv? [y]es, [n]o, [A]ll, [N]one, [r]ename: y\n",
            "  inflating: bank.csv                \n"
          ],
          "name": "stdout"
        }
      ]
    },
    {
      "cell_type": "code",
      "metadata": {
        "colab": {
          "base_uri": "https://localhost:8080/"
        },
        "id": "V7pUPanEga10",
        "outputId": "c41640d0-d470-41bd-9725-b1f58b7daa54"
      },
      "source": [
        "# listing the data in my current working directory\n",
        "!ls"
      ],
      "execution_count": null,
      "outputs": [
        {
          "output_type": "stream",
          "text": [
            "bank.csv       bank-names.txt  bank.zip.1  sample_data\n",
            "bank-full.csv  bank.zip        bank.zip.2\n"
          ],
          "name": "stdout"
        }
      ]
    },
    {
      "cell_type": "markdown",
      "metadata": {
        "id": "MErIUvo1yLZt"
      },
      "source": [
        "# Data Understanding\n",
        "- Here, the goal is to explore the data to understand the nature of the data, check for missing values, and devise means to handle the missing values if applicable."
      ]
    },
    {
      "cell_type": "code",
      "metadata": {
        "id": "6lBZLnGNUv7y"
      },
      "source": [
        "import pandas as pd\n",
        "import numpy as np\n",
        "import matplotlib.pyplot as plt\n",
        "import seaborn as sns"
      ],
      "execution_count": null,
      "outputs": []
    },
    {
      "cell_type": "code",
      "metadata": {
        "colab": {
          "base_uri": "https://localhost:8080/",
          "height": 224
        },
        "id": "KJ1MyOLugmVL",
        "outputId": "d7e1606f-8c73-404d-995c-095a74c4a034"
      },
      "source": [
        "# load and view the first few rows of the data\n",
        "df_bank = pd.read_csv('bank-full.csv', sep = ';')\n",
        "\n",
        "df_bank.head()"
      ],
      "execution_count": null,
      "outputs": [
        {
          "output_type": "execute_result",
          "data": {
            "text/html": [
              "<div>\n",
              "<style scoped>\n",
              "    .dataframe tbody tr th:only-of-type {\n",
              "        vertical-align: middle;\n",
              "    }\n",
              "\n",
              "    .dataframe tbody tr th {\n",
              "        vertical-align: top;\n",
              "    }\n",
              "\n",
              "    .dataframe thead th {\n",
              "        text-align: right;\n",
              "    }\n",
              "</style>\n",
              "<table border=\"1\" class=\"dataframe\">\n",
              "  <thead>\n",
              "    <tr style=\"text-align: right;\">\n",
              "      <th></th>\n",
              "      <th>age</th>\n",
              "      <th>job</th>\n",
              "      <th>marital</th>\n",
              "      <th>education</th>\n",
              "      <th>default</th>\n",
              "      <th>balance</th>\n",
              "      <th>housing</th>\n",
              "      <th>loan</th>\n",
              "      <th>contact</th>\n",
              "      <th>day</th>\n",
              "      <th>month</th>\n",
              "      <th>duration</th>\n",
              "      <th>campaign</th>\n",
              "      <th>pdays</th>\n",
              "      <th>previous</th>\n",
              "      <th>poutcome</th>\n",
              "      <th>y</th>\n",
              "    </tr>\n",
              "  </thead>\n",
              "  <tbody>\n",
              "    <tr>\n",
              "      <th>0</th>\n",
              "      <td>58</td>\n",
              "      <td>management</td>\n",
              "      <td>married</td>\n",
              "      <td>tertiary</td>\n",
              "      <td>no</td>\n",
              "      <td>2143</td>\n",
              "      <td>yes</td>\n",
              "      <td>no</td>\n",
              "      <td>unknown</td>\n",
              "      <td>5</td>\n",
              "      <td>may</td>\n",
              "      <td>261</td>\n",
              "      <td>1</td>\n",
              "      <td>-1</td>\n",
              "      <td>0</td>\n",
              "      <td>unknown</td>\n",
              "      <td>no</td>\n",
              "    </tr>\n",
              "    <tr>\n",
              "      <th>1</th>\n",
              "      <td>44</td>\n",
              "      <td>technician</td>\n",
              "      <td>single</td>\n",
              "      <td>secondary</td>\n",
              "      <td>no</td>\n",
              "      <td>29</td>\n",
              "      <td>yes</td>\n",
              "      <td>no</td>\n",
              "      <td>unknown</td>\n",
              "      <td>5</td>\n",
              "      <td>may</td>\n",
              "      <td>151</td>\n",
              "      <td>1</td>\n",
              "      <td>-1</td>\n",
              "      <td>0</td>\n",
              "      <td>unknown</td>\n",
              "      <td>no</td>\n",
              "    </tr>\n",
              "    <tr>\n",
              "      <th>2</th>\n",
              "      <td>33</td>\n",
              "      <td>entrepreneur</td>\n",
              "      <td>married</td>\n",
              "      <td>secondary</td>\n",
              "      <td>no</td>\n",
              "      <td>2</td>\n",
              "      <td>yes</td>\n",
              "      <td>yes</td>\n",
              "      <td>unknown</td>\n",
              "      <td>5</td>\n",
              "      <td>may</td>\n",
              "      <td>76</td>\n",
              "      <td>1</td>\n",
              "      <td>-1</td>\n",
              "      <td>0</td>\n",
              "      <td>unknown</td>\n",
              "      <td>no</td>\n",
              "    </tr>\n",
              "    <tr>\n",
              "      <th>3</th>\n",
              "      <td>47</td>\n",
              "      <td>blue-collar</td>\n",
              "      <td>married</td>\n",
              "      <td>unknown</td>\n",
              "      <td>no</td>\n",
              "      <td>1506</td>\n",
              "      <td>yes</td>\n",
              "      <td>no</td>\n",
              "      <td>unknown</td>\n",
              "      <td>5</td>\n",
              "      <td>may</td>\n",
              "      <td>92</td>\n",
              "      <td>1</td>\n",
              "      <td>-1</td>\n",
              "      <td>0</td>\n",
              "      <td>unknown</td>\n",
              "      <td>no</td>\n",
              "    </tr>\n",
              "    <tr>\n",
              "      <th>4</th>\n",
              "      <td>33</td>\n",
              "      <td>unknown</td>\n",
              "      <td>single</td>\n",
              "      <td>unknown</td>\n",
              "      <td>no</td>\n",
              "      <td>1</td>\n",
              "      <td>no</td>\n",
              "      <td>no</td>\n",
              "      <td>unknown</td>\n",
              "      <td>5</td>\n",
              "      <td>may</td>\n",
              "      <td>198</td>\n",
              "      <td>1</td>\n",
              "      <td>-1</td>\n",
              "      <td>0</td>\n",
              "      <td>unknown</td>\n",
              "      <td>no</td>\n",
              "    </tr>\n",
              "  </tbody>\n",
              "</table>\n",
              "</div>"
            ],
            "text/plain": [
              "   age           job  marital  education  ... pdays  previous poutcome   y\n",
              "0   58    management  married   tertiary  ...    -1         0  unknown  no\n",
              "1   44    technician   single  secondary  ...    -1         0  unknown  no\n",
              "2   33  entrepreneur  married  secondary  ...    -1         0  unknown  no\n",
              "3   47   blue-collar  married    unknown  ...    -1         0  unknown  no\n",
              "4   33       unknown   single    unknown  ...    -1         0  unknown  no\n",
              "\n",
              "[5 rows x 17 columns]"
            ]
          },
          "metadata": {
            "tags": []
          },
          "execution_count": 5
        }
      ]
    },
    {
      "cell_type": "code",
      "metadata": {
        "colab": {
          "base_uri": "https://localhost:8080/"
        },
        "id": "RAKfXKwpyTqH",
        "outputId": "5fe1c680-259a-4473-b42a-2fa505773ed8"
      },
      "source": [
        "# check the dimensions of the data\n",
        "df_bank.shape"
      ],
      "execution_count": null,
      "outputs": [
        {
          "output_type": "execute_result",
          "data": {
            "text/plain": [
              "(45211, 17)"
            ]
          },
          "metadata": {
            "tags": []
          },
          "execution_count": 9
        }
      ]
    },
    {
      "cell_type": "markdown",
      "metadata": {
        "id": "bCt7gMRaycgs"
      },
      "source": [
        "The data contains 45211 rows and 17 features"
      ]
    },
    {
      "cell_type": "code",
      "metadata": {
        "colab": {
          "base_uri": "https://localhost:8080/"
        },
        "id": "niBKbAKHyTue",
        "outputId": "978d08ba-7c33-42ad-8ad8-2c1212f42832"
      },
      "source": [
        "# view the columns names\n",
        "df_bank.columns"
      ],
      "execution_count": null,
      "outputs": [
        {
          "output_type": "execute_result",
          "data": {
            "text/plain": [
              "Index(['age', 'job', 'marital', 'education', 'default', 'balance', 'housing',\n",
              "       'loan', 'contact', 'day', 'month', 'duration', 'campaign', 'pdays',\n",
              "       'previous', 'poutcome', 'y'],\n",
              "      dtype='object')"
            ]
          },
          "metadata": {
            "tags": []
          },
          "execution_count": 10
        }
      ]
    },
    {
      "cell_type": "code",
      "metadata": {
        "colab": {
          "base_uri": "https://localhost:8080/",
          "height": 224
        },
        "id": "J-yLRnSZWa4D",
        "outputId": "4f8ca803-07d2-44f6-d11d-10b0b5d4b041"
      },
      "source": [
        "# replace data points with 'unlnown' value with NaN\n",
        "df = df_bank.replace('unknown', np.nan)\n",
        "df['pdays'].replace(-1, np.nan, inplace = True)\n",
        "df.head()\n",
        "#df.to_csv()"
      ],
      "execution_count": null,
      "outputs": [
        {
          "output_type": "execute_result",
          "data": {
            "text/html": [
              "<div>\n",
              "<style scoped>\n",
              "    .dataframe tbody tr th:only-of-type {\n",
              "        vertical-align: middle;\n",
              "    }\n",
              "\n",
              "    .dataframe tbody tr th {\n",
              "        vertical-align: top;\n",
              "    }\n",
              "\n",
              "    .dataframe thead th {\n",
              "        text-align: right;\n",
              "    }\n",
              "</style>\n",
              "<table border=\"1\" class=\"dataframe\">\n",
              "  <thead>\n",
              "    <tr style=\"text-align: right;\">\n",
              "      <th></th>\n",
              "      <th>age</th>\n",
              "      <th>job</th>\n",
              "      <th>marital</th>\n",
              "      <th>education</th>\n",
              "      <th>default</th>\n",
              "      <th>balance</th>\n",
              "      <th>housing</th>\n",
              "      <th>loan</th>\n",
              "      <th>contact</th>\n",
              "      <th>day</th>\n",
              "      <th>month</th>\n",
              "      <th>duration</th>\n",
              "      <th>campaign</th>\n",
              "      <th>pdays</th>\n",
              "      <th>previous</th>\n",
              "      <th>poutcome</th>\n",
              "      <th>y</th>\n",
              "    </tr>\n",
              "  </thead>\n",
              "  <tbody>\n",
              "    <tr>\n",
              "      <th>0</th>\n",
              "      <td>58</td>\n",
              "      <td>management</td>\n",
              "      <td>married</td>\n",
              "      <td>tertiary</td>\n",
              "      <td>no</td>\n",
              "      <td>2143</td>\n",
              "      <td>yes</td>\n",
              "      <td>no</td>\n",
              "      <td>NaN</td>\n",
              "      <td>5</td>\n",
              "      <td>may</td>\n",
              "      <td>261</td>\n",
              "      <td>1</td>\n",
              "      <td>NaN</td>\n",
              "      <td>0</td>\n",
              "      <td>NaN</td>\n",
              "      <td>no</td>\n",
              "    </tr>\n",
              "    <tr>\n",
              "      <th>1</th>\n",
              "      <td>44</td>\n",
              "      <td>technician</td>\n",
              "      <td>single</td>\n",
              "      <td>secondary</td>\n",
              "      <td>no</td>\n",
              "      <td>29</td>\n",
              "      <td>yes</td>\n",
              "      <td>no</td>\n",
              "      <td>NaN</td>\n",
              "      <td>5</td>\n",
              "      <td>may</td>\n",
              "      <td>151</td>\n",
              "      <td>1</td>\n",
              "      <td>NaN</td>\n",
              "      <td>0</td>\n",
              "      <td>NaN</td>\n",
              "      <td>no</td>\n",
              "    </tr>\n",
              "    <tr>\n",
              "      <th>2</th>\n",
              "      <td>33</td>\n",
              "      <td>entrepreneur</td>\n",
              "      <td>married</td>\n",
              "      <td>secondary</td>\n",
              "      <td>no</td>\n",
              "      <td>2</td>\n",
              "      <td>yes</td>\n",
              "      <td>yes</td>\n",
              "      <td>NaN</td>\n",
              "      <td>5</td>\n",
              "      <td>may</td>\n",
              "      <td>76</td>\n",
              "      <td>1</td>\n",
              "      <td>NaN</td>\n",
              "      <td>0</td>\n",
              "      <td>NaN</td>\n",
              "      <td>no</td>\n",
              "    </tr>\n",
              "    <tr>\n",
              "      <th>3</th>\n",
              "      <td>47</td>\n",
              "      <td>blue-collar</td>\n",
              "      <td>married</td>\n",
              "      <td>NaN</td>\n",
              "      <td>no</td>\n",
              "      <td>1506</td>\n",
              "      <td>yes</td>\n",
              "      <td>no</td>\n",
              "      <td>NaN</td>\n",
              "      <td>5</td>\n",
              "      <td>may</td>\n",
              "      <td>92</td>\n",
              "      <td>1</td>\n",
              "      <td>NaN</td>\n",
              "      <td>0</td>\n",
              "      <td>NaN</td>\n",
              "      <td>no</td>\n",
              "    </tr>\n",
              "    <tr>\n",
              "      <th>4</th>\n",
              "      <td>33</td>\n",
              "      <td>NaN</td>\n",
              "      <td>single</td>\n",
              "      <td>NaN</td>\n",
              "      <td>no</td>\n",
              "      <td>1</td>\n",
              "      <td>no</td>\n",
              "      <td>no</td>\n",
              "      <td>NaN</td>\n",
              "      <td>5</td>\n",
              "      <td>may</td>\n",
              "      <td>198</td>\n",
              "      <td>1</td>\n",
              "      <td>NaN</td>\n",
              "      <td>0</td>\n",
              "      <td>NaN</td>\n",
              "      <td>no</td>\n",
              "    </tr>\n",
              "  </tbody>\n",
              "</table>\n",
              "</div>"
            ],
            "text/plain": [
              "   age           job  marital  education  ... pdays  previous poutcome   y\n",
              "0   58    management  married   tertiary  ...   NaN         0      NaN  no\n",
              "1   44    technician   single  secondary  ...   NaN         0      NaN  no\n",
              "2   33  entrepreneur  married  secondary  ...   NaN         0      NaN  no\n",
              "3   47   blue-collar  married        NaN  ...   NaN         0      NaN  no\n",
              "4   33           NaN   single        NaN  ...   NaN         0      NaN  no\n",
              "\n",
              "[5 rows x 17 columns]"
            ]
          },
          "metadata": {
            "tags": []
          },
          "execution_count": 6
        }
      ]
    },
    {
      "cell_type": "markdown",
      "metadata": {
        "id": "_A6JVhfdxgi2"
      },
      "source": [
        ""
      ]
    },
    {
      "cell_type": "markdown",
      "metadata": {
        "id": "AUDhQJhxzI3g"
      },
      "source": [
        "- I have replaced every data point with 'unknown' response with a 'NaN' to represent that the observation is missing.\n",
        "- Also, I have replaced \"-1\" in the variable \"pdays\" as pday represent the number of days that passed by after the client was last contacted from a previous campaign (-1 means client was not previously contacted)"
      ]
    },
    {
      "cell_type": "markdown",
      "metadata": {
        "id": "X3Stkt7YxKGw"
      },
      "source": [
        "## Handling Missing Values\n",
        "- Here, the objective is to find the variables with missing values, and possibly a way to handle the missing values."
      ]
    },
    {
      "cell_type": "code",
      "metadata": {
        "colab": {
          "base_uri": "https://localhost:8080/"
        },
        "id": "4dtWYSGyzA7N",
        "outputId": "35655a7b-2c28-4593-8f4b-a5e452472373"
      },
      "source": [
        "# check for missing values\n",
        "df.isnull().sum()"
      ],
      "execution_count": null,
      "outputs": [
        {
          "output_type": "execute_result",
          "data": {
            "text/plain": [
              "age              0\n",
              "job            288\n",
              "marital          0\n",
              "education     1857\n",
              "default          0\n",
              "balance          0\n",
              "housing          0\n",
              "loan             0\n",
              "contact      13020\n",
              "day              0\n",
              "month            0\n",
              "duration         0\n",
              "campaign         0\n",
              "pdays        36954\n",
              "previous         0\n",
              "poutcome     36959\n",
              "y                0\n",
              "dtype: int64"
            ]
          },
          "metadata": {
            "tags": []
          },
          "execution_count": 12
        }
      ]
    },
    {
      "cell_type": "markdown",
      "metadata": {
        "id": "JyxqRVn4xoys"
      },
      "source": [
        "- It appears that five of the variables in our data (job, education, contact, pdays, and poutcome) have missing values. There are several methods to deal with missing values. However, there is not one standard method to treat all missing values; it all depends on the type of data one is working with. Here, I have decided to treat each variable with missing values separate method.\n",
        "- First, I observe that the 'contact' variable which refers to the method each person was contacted by the bank for the campaign, contains two categories (cellular and telephone) with cellular making up about 65% and telephone about 6%. It is reasonable for us to assume the unknowns were also contacted via cellular. Therefore, I would fill the missing values here with cellular label. The same intuition applies to the 'job' and 'education' variables where I would fill their missing values with the most frequent category.\n",
        "\n",
        "- Similarly, I would remove the 'poutcome' which refers to whether previous campaign was successful, failed or never existed. This is because about 82% of the observations are missing. This same intuition applies to the 'pdays' variable."
      ]
    },
    {
      "cell_type": "code",
      "metadata": {
        "colab": {
          "base_uri": "https://localhost:8080/"
        },
        "id": "qwNfFj4i3HdT",
        "outputId": "a49914c9-7ec5-4759-cafe-b2d781d38925"
      },
      "source": [
        "df['contact'].value_counts()"
      ],
      "execution_count": null,
      "outputs": [
        {
          "output_type": "execute_result",
          "data": {
            "text/plain": [
              "cellular     29285\n",
              "telephone     2906\n",
              "Name: contact, dtype: int64"
            ]
          },
          "metadata": {
            "tags": []
          },
          "execution_count": 13
        }
      ]
    },
    {
      "cell_type": "code",
      "metadata": {
        "id": "USILntghzBGa"
      },
      "source": [
        "# remove the 'poutcome' variable\n",
        "df.drop(['poutcome', 'pdays'], axis = 1, inplace = True)\n",
        "#df.isnull().sum()"
      ],
      "execution_count": null,
      "outputs": []
    },
    {
      "cell_type": "code",
      "metadata": {
        "colab": {
          "base_uri": "https://localhost:8080/",
          "height": 224
        },
        "id": "ncjgbdq3ppmo",
        "outputId": "ee1a4079-9c28-4e05-aeab-979532ca9745"
      },
      "source": [
        "# sanity check\n",
        "df.head()"
      ],
      "execution_count": null,
      "outputs": [
        {
          "output_type": "execute_result",
          "data": {
            "text/html": [
              "<div>\n",
              "<style scoped>\n",
              "    .dataframe tbody tr th:only-of-type {\n",
              "        vertical-align: middle;\n",
              "    }\n",
              "\n",
              "    .dataframe tbody tr th {\n",
              "        vertical-align: top;\n",
              "    }\n",
              "\n",
              "    .dataframe thead th {\n",
              "        text-align: right;\n",
              "    }\n",
              "</style>\n",
              "<table border=\"1\" class=\"dataframe\">\n",
              "  <thead>\n",
              "    <tr style=\"text-align: right;\">\n",
              "      <th></th>\n",
              "      <th>age</th>\n",
              "      <th>job</th>\n",
              "      <th>marital</th>\n",
              "      <th>education</th>\n",
              "      <th>default</th>\n",
              "      <th>balance</th>\n",
              "      <th>housing</th>\n",
              "      <th>loan</th>\n",
              "      <th>contact</th>\n",
              "      <th>day</th>\n",
              "      <th>month</th>\n",
              "      <th>duration</th>\n",
              "      <th>campaign</th>\n",
              "      <th>previous</th>\n",
              "      <th>y</th>\n",
              "    </tr>\n",
              "  </thead>\n",
              "  <tbody>\n",
              "    <tr>\n",
              "      <th>0</th>\n",
              "      <td>58</td>\n",
              "      <td>management</td>\n",
              "      <td>married</td>\n",
              "      <td>tertiary</td>\n",
              "      <td>no</td>\n",
              "      <td>2143</td>\n",
              "      <td>yes</td>\n",
              "      <td>no</td>\n",
              "      <td>NaN</td>\n",
              "      <td>5</td>\n",
              "      <td>may</td>\n",
              "      <td>261</td>\n",
              "      <td>1</td>\n",
              "      <td>0</td>\n",
              "      <td>no</td>\n",
              "    </tr>\n",
              "    <tr>\n",
              "      <th>1</th>\n",
              "      <td>44</td>\n",
              "      <td>technician</td>\n",
              "      <td>single</td>\n",
              "      <td>secondary</td>\n",
              "      <td>no</td>\n",
              "      <td>29</td>\n",
              "      <td>yes</td>\n",
              "      <td>no</td>\n",
              "      <td>NaN</td>\n",
              "      <td>5</td>\n",
              "      <td>may</td>\n",
              "      <td>151</td>\n",
              "      <td>1</td>\n",
              "      <td>0</td>\n",
              "      <td>no</td>\n",
              "    </tr>\n",
              "    <tr>\n",
              "      <th>2</th>\n",
              "      <td>33</td>\n",
              "      <td>entrepreneur</td>\n",
              "      <td>married</td>\n",
              "      <td>secondary</td>\n",
              "      <td>no</td>\n",
              "      <td>2</td>\n",
              "      <td>yes</td>\n",
              "      <td>yes</td>\n",
              "      <td>NaN</td>\n",
              "      <td>5</td>\n",
              "      <td>may</td>\n",
              "      <td>76</td>\n",
              "      <td>1</td>\n",
              "      <td>0</td>\n",
              "      <td>no</td>\n",
              "    </tr>\n",
              "    <tr>\n",
              "      <th>3</th>\n",
              "      <td>47</td>\n",
              "      <td>blue-collar</td>\n",
              "      <td>married</td>\n",
              "      <td>NaN</td>\n",
              "      <td>no</td>\n",
              "      <td>1506</td>\n",
              "      <td>yes</td>\n",
              "      <td>no</td>\n",
              "      <td>NaN</td>\n",
              "      <td>5</td>\n",
              "      <td>may</td>\n",
              "      <td>92</td>\n",
              "      <td>1</td>\n",
              "      <td>0</td>\n",
              "      <td>no</td>\n",
              "    </tr>\n",
              "    <tr>\n",
              "      <th>4</th>\n",
              "      <td>33</td>\n",
              "      <td>NaN</td>\n",
              "      <td>single</td>\n",
              "      <td>NaN</td>\n",
              "      <td>no</td>\n",
              "      <td>1</td>\n",
              "      <td>no</td>\n",
              "      <td>no</td>\n",
              "      <td>NaN</td>\n",
              "      <td>5</td>\n",
              "      <td>may</td>\n",
              "      <td>198</td>\n",
              "      <td>1</td>\n",
              "      <td>0</td>\n",
              "      <td>no</td>\n",
              "    </tr>\n",
              "  </tbody>\n",
              "</table>\n",
              "</div>"
            ],
            "text/plain": [
              "   age           job  marital  education  ... duration  campaign previous   y\n",
              "0   58    management  married   tertiary  ...      261         1        0  no\n",
              "1   44    technician   single  secondary  ...      151         1        0  no\n",
              "2   33  entrepreneur  married  secondary  ...       76         1        0  no\n",
              "3   47   blue-collar  married        NaN  ...       92         1        0  no\n",
              "4   33           NaN   single        NaN  ...      198         1        0  no\n",
              "\n",
              "[5 rows x 15 columns]"
            ]
          },
          "metadata": {
            "tags": []
          },
          "execution_count": 8
        }
      ]
    },
    {
      "cell_type": "markdown",
      "metadata": {
        "id": "dEi6p3sliOTT"
      },
      "source": [
        ""
      ]
    },
    {
      "cell_type": "code",
      "metadata": {
        "colab": {
          "base_uri": "https://localhost:8080/"
        },
        "id": "fH9W4mtvB-gU",
        "outputId": "f826f9d4-2ad8-47f9-d810-c7a0edcb7d82"
      },
      "source": [
        "# check the most frequency category in the 'education' variable\n",
        "df['job'].mode()[0], df['education'].mode()[0]"
      ],
      "execution_count": null,
      "outputs": [
        {
          "output_type": "execute_result",
          "data": {
            "text/plain": [
              "('blue-collar', 'secondary')"
            ]
          },
          "metadata": {
            "tags": []
          },
          "execution_count": 9
        }
      ]
    },
    {
      "cell_type": "markdown",
      "metadata": {
        "id": "MRqAIVQdXCHP"
      },
      "source": [
        "- Here, I define a function to impute missing observation with the most frequency category in each categorical variable. Finally, I dropped the original variables."
      ]
    },
    {
      "cell_type": "code",
      "metadata": {
        "colab": {
          "base_uri": "https://localhost:8080/",
          "height": 224
        },
        "id": "RnpJ7busIF_E",
        "outputId": "37e67b1b-1060-405a-c1fd-0614aaacc005"
      },
      "source": [
        "def impute_nan_most_frequent_category(DataFrame,ColName):\n",
        "    # .mode()[0] - gives first category name\n",
        "     most_frequent_category=DataFrame[ColName].mode()[0]\n",
        "    \n",
        "    # replace nan values with most occured category\n",
        "     DataFrame[ColName + \"_Imputed\"] = DataFrame[ColName]\n",
        "     DataFrame[ColName + \"_Imputed\"].fillna(most_frequent_category,inplace=True)\n",
        "#2. Call function to impute most occured category\n",
        "for columns in ['job','education','contact']:\n",
        "    impute_nan_most_frequent_category(df, columns)\n",
        "    \n",
        "# Display imputed result\n",
        "df[['job','job_Imputed','education','education_Imputed','contact','contact_Imputed']].head(10)\n",
        "\n",
        "#3. Drop actual columns\n",
        "df = df.drop(['job','education','contact'], axis = 1)\n",
        "df.head()"
      ],
      "execution_count": null,
      "outputs": [
        {
          "output_type": "execute_result",
          "data": {
            "text/html": [
              "<div>\n",
              "<style scoped>\n",
              "    .dataframe tbody tr th:only-of-type {\n",
              "        vertical-align: middle;\n",
              "    }\n",
              "\n",
              "    .dataframe tbody tr th {\n",
              "        vertical-align: top;\n",
              "    }\n",
              "\n",
              "    .dataframe thead th {\n",
              "        text-align: right;\n",
              "    }\n",
              "</style>\n",
              "<table border=\"1\" class=\"dataframe\">\n",
              "  <thead>\n",
              "    <tr style=\"text-align: right;\">\n",
              "      <th></th>\n",
              "      <th>age</th>\n",
              "      <th>marital</th>\n",
              "      <th>default</th>\n",
              "      <th>balance</th>\n",
              "      <th>housing</th>\n",
              "      <th>loan</th>\n",
              "      <th>day</th>\n",
              "      <th>month</th>\n",
              "      <th>duration</th>\n",
              "      <th>campaign</th>\n",
              "      <th>previous</th>\n",
              "      <th>y</th>\n",
              "      <th>job_Imputed</th>\n",
              "      <th>education_Imputed</th>\n",
              "      <th>contact_Imputed</th>\n",
              "    </tr>\n",
              "  </thead>\n",
              "  <tbody>\n",
              "    <tr>\n",
              "      <th>0</th>\n",
              "      <td>58</td>\n",
              "      <td>married</td>\n",
              "      <td>no</td>\n",
              "      <td>2143</td>\n",
              "      <td>yes</td>\n",
              "      <td>no</td>\n",
              "      <td>5</td>\n",
              "      <td>may</td>\n",
              "      <td>261</td>\n",
              "      <td>1</td>\n",
              "      <td>0</td>\n",
              "      <td>no</td>\n",
              "      <td>management</td>\n",
              "      <td>tertiary</td>\n",
              "      <td>cellular</td>\n",
              "    </tr>\n",
              "    <tr>\n",
              "      <th>1</th>\n",
              "      <td>44</td>\n",
              "      <td>single</td>\n",
              "      <td>no</td>\n",
              "      <td>29</td>\n",
              "      <td>yes</td>\n",
              "      <td>no</td>\n",
              "      <td>5</td>\n",
              "      <td>may</td>\n",
              "      <td>151</td>\n",
              "      <td>1</td>\n",
              "      <td>0</td>\n",
              "      <td>no</td>\n",
              "      <td>technician</td>\n",
              "      <td>secondary</td>\n",
              "      <td>cellular</td>\n",
              "    </tr>\n",
              "    <tr>\n",
              "      <th>2</th>\n",
              "      <td>33</td>\n",
              "      <td>married</td>\n",
              "      <td>no</td>\n",
              "      <td>2</td>\n",
              "      <td>yes</td>\n",
              "      <td>yes</td>\n",
              "      <td>5</td>\n",
              "      <td>may</td>\n",
              "      <td>76</td>\n",
              "      <td>1</td>\n",
              "      <td>0</td>\n",
              "      <td>no</td>\n",
              "      <td>entrepreneur</td>\n",
              "      <td>secondary</td>\n",
              "      <td>cellular</td>\n",
              "    </tr>\n",
              "    <tr>\n",
              "      <th>3</th>\n",
              "      <td>47</td>\n",
              "      <td>married</td>\n",
              "      <td>no</td>\n",
              "      <td>1506</td>\n",
              "      <td>yes</td>\n",
              "      <td>no</td>\n",
              "      <td>5</td>\n",
              "      <td>may</td>\n",
              "      <td>92</td>\n",
              "      <td>1</td>\n",
              "      <td>0</td>\n",
              "      <td>no</td>\n",
              "      <td>blue-collar</td>\n",
              "      <td>secondary</td>\n",
              "      <td>cellular</td>\n",
              "    </tr>\n",
              "    <tr>\n",
              "      <th>4</th>\n",
              "      <td>33</td>\n",
              "      <td>single</td>\n",
              "      <td>no</td>\n",
              "      <td>1</td>\n",
              "      <td>no</td>\n",
              "      <td>no</td>\n",
              "      <td>5</td>\n",
              "      <td>may</td>\n",
              "      <td>198</td>\n",
              "      <td>1</td>\n",
              "      <td>0</td>\n",
              "      <td>no</td>\n",
              "      <td>blue-collar</td>\n",
              "      <td>secondary</td>\n",
              "      <td>cellular</td>\n",
              "    </tr>\n",
              "  </tbody>\n",
              "</table>\n",
              "</div>"
            ],
            "text/plain": [
              "   age  marital default  ...   job_Imputed education_Imputed contact_Imputed\n",
              "0   58  married      no  ...    management          tertiary        cellular\n",
              "1   44   single      no  ...    technician         secondary        cellular\n",
              "2   33  married      no  ...  entrepreneur         secondary        cellular\n",
              "3   47  married      no  ...   blue-collar         secondary        cellular\n",
              "4   33   single      no  ...   blue-collar         secondary        cellular\n",
              "\n",
              "[5 rows x 15 columns]"
            ]
          },
          "metadata": {
            "tags": []
          },
          "execution_count": 10
        }
      ]
    },
    {
      "cell_type": "code",
      "metadata": {
        "colab": {
          "base_uri": "https://localhost:8080/"
        },
        "id": "FgUX9SyaIJzO",
        "outputId": "04377133-8b0e-4398-b7ae-eff2a2c8cbc4"
      },
      "source": [
        "# sanity check\n",
        "df.isnull().sum()"
      ],
      "execution_count": null,
      "outputs": [
        {
          "output_type": "execute_result",
          "data": {
            "text/plain": [
              "age                  0\n",
              "marital              0\n",
              "default              0\n",
              "balance              0\n",
              "housing              0\n",
              "loan                 0\n",
              "day                  0\n",
              "month                0\n",
              "duration             0\n",
              "campaign             0\n",
              "previous             0\n",
              "y                    0\n",
              "job_Imputed          0\n",
              "education_Imputed    0\n",
              "contact_Imputed      0\n",
              "dtype: int64"
            ]
          },
          "metadata": {
            "tags": []
          },
          "execution_count": 11
        }
      ]
    },
    {
      "cell_type": "markdown",
      "metadata": {
        "id": "KcVATpSUfLEg"
      },
      "source": [
        "# Data Visualization\n",
        "- The goal here is to further explore the relationships between the variables in the data to derive insights into which of our variables might likely contribute to predict whether or not a client would accept or decline the bank deposit. "
      ]
    },
    {
      "cell_type": "markdown",
      "metadata": {
        "id": "aJQpoFgwLZcw"
      },
      "source": [
        "## Univariate Analysis\n",
        "- Here, the goal is to explore the distribution of individual variables so as to derive any insights each variable might contribute to the target variable."
      ]
    },
    {
      "cell_type": "markdown",
      "metadata": {
        "id": "jQl99V1VdRZZ"
      },
      "source": [
        "- Target (y)"
      ]
    },
    {
      "cell_type": "code",
      "metadata": {
        "colab": {
          "base_uri": "https://localhost:8080/",
          "height": 333
        },
        "id": "f049TTBKcxVx",
        "outputId": "642f076b-488e-4449-bc9e-f4d15d6b2690"
      },
      "source": [
        "# visualize the target variable\n",
        "g = sns.countplot(df['y'])\n",
        "g.set_xticklabels(['No','Yes'])\n",
        "plt.show()"
      ],
      "execution_count": null,
      "outputs": [
        {
          "output_type": "stream",
          "text": [
            "/usr/local/lib/python3.7/dist-packages/seaborn/_decorators.py:43: FutureWarning: Pass the following variable as a keyword arg: x. From version 0.12, the only valid positional argument will be `data`, and passing other arguments without an explicit keyword will result in an error or misinterpretation.\n",
            "  FutureWarning\n"
          ],
          "name": "stderr"
        },
        {
          "output_type": "display_data",
          "data": {
            "image/png": "[encoded data removed]",
            "text/plain": [
              "<Figure size 432x288 with 1 Axes>"
            ]
          },
          "metadata": {
            "tags": [],
            "needs_background": "light"
          }
        }
      ]
    },
    {
      "cell_type": "markdown",
      "metadata": {
        "id": "2WXGZoGEdXH4"
      },
      "source": [
        "- Clearly, we see that the data is very imbalanced. Hence, we might need to handle this imbalance issue to improve model performance."
      ]
    },
    {
      "cell_type": "markdown",
      "metadata": {
        "id": "ka574NoINtO3"
      },
      "source": [
        "- Education"
      ]
    },
    {
      "cell_type": "code",
      "metadata": {
        "colab": {
          "base_uri": "https://localhost:8080/",
          "height": 296
        },
        "id": "e7ocIFrQs33m",
        "outputId": "773b48fa-e086-48af-b016-a60c26768fc7"
      },
      "source": [
        "sns.countplot(x = 'education_Imputed', data = df)\n",
        "plt.title(\"Plot of customers education\")\n",
        "plt.show()"
      ],
      "execution_count": null,
      "outputs": [
        {
          "output_type": "display_data",
          "data": {
            "image/png": "[encoded data removed]",
            "text/plain": [
              "<Figure size 432x288 with 1 Axes>"
            ]
          },
          "metadata": {
            "tags": [],
            "needs_background": "light"
          }
        }
      ]
    },
    {
      "cell_type": "markdown",
      "metadata": {
        "id": "cgsBCPPoVSR5"
      },
      "source": [
        "- It appears, there are more clients with secondary-level education compared to those with primary or tertiary-level education."
      ]
    },
    {
      "cell_type": "markdown",
      "metadata": {
        "id": "mcgw5nzkRNPA"
      },
      "source": [
        "- Types of jobs"
      ]
    },
    {
      "cell_type": "code",
      "metadata": {
        "colab": {
          "base_uri": "https://localhost:8080/",
          "height": 407
        },
        "id": "3y2Zrn94N05R",
        "outputId": "739c49f9-02eb-4989-d154-d8dcaf0bada6"
      },
      "source": [
        "plt.figure(figsize = (8, 5))\n",
        "g = sns.countplot(x = 'job_Imputed', data = df)\n",
        "g.set_xticklabels(labels = df['job_Imputed'], rotation = 90)\n",
        "plt.title(\"Distribution of customers jobs\")\n",
        "plt.show()"
      ],
      "execution_count": null,
      "outputs": [
        {
          "output_type": "display_data",
          "data": {
            "image/png": "[encoded data removed]",
            "text/plain": [
              "<Figure size 576x360 with 1 Axes>"
            ]
          },
          "metadata": {
            "tags": [],
            "needs_background": "light"
          }
        }
      ]
    },
    {
      "cell_type": "markdown",
      "metadata": {
        "id": "EHZ7LLnqPiXF"
      },
      "source": [
        "- Clearly, majority of the clients are those with blue-collar jobs, technicians, and management positions."
      ]
    },
    {
      "cell_type": "markdown",
      "metadata": {
        "id": "uAR_B2ABRuAw"
      },
      "source": [
        "- Marital status"
      ]
    },
    {
      "cell_type": "code",
      "metadata": {
        "colab": {
          "base_uri": "https://localhost:8080/",
          "height": 295
        },
        "id": "UfMClWLEN1N1",
        "outputId": "532aa5ef-67e5-4c79-f5da-a5dea3ce4117"
      },
      "source": [
        "sns.countplot(x = 'marital', data = df)\n",
        "plt.title(\"Plot of customers marital status\")\n",
        "plt.show()"
      ],
      "execution_count": null,
      "outputs": [
        {
          "output_type": "display_data",
          "data": {
            "image/png": "[encoded data removed]",
            "text/plain": [
              "<Figure size 432x288 with 1 Axes>"
            ]
          },
          "metadata": {
            "tags": [],
            "needs_background": "light"
          }
        }
      ]
    },
    {
      "cell_type": "markdown",
      "metadata": {
        "id": "JZo3EDJqR8Yo"
      },
      "source": [
        "- Majority of the customers are married."
      ]
    },
    {
      "cell_type": "markdown",
      "metadata": {
        "id": "qr-XkPsZSEU9"
      },
      "source": [
        "- Housing loan"
      ]
    },
    {
      "cell_type": "code",
      "metadata": {
        "colab": {
          "base_uri": "https://localhost:8080/",
          "height": 295
        },
        "id": "GCpRAsuuN1WH",
        "outputId": "18c8c0b9-e617-42f8-c023-0b2fbce19f56"
      },
      "source": [
        "sns.countplot(x = 'housing', data = df)\n",
        "plt.title(\"Distribution of customers housing loan status\")\n",
        "plt.show()"
      ],
      "execution_count": null,
      "outputs": [
        {
          "output_type": "display_data",
          "data": {
            "image/png": "[encoded data removed]",
            "text/plain": [
              "<Figure size 432x288 with 1 Axes>"
            ]
          },
          "metadata": {
            "tags": [],
            "needs_background": "light"
          }
        }
      ]
    },
    {
      "cell_type": "markdown",
      "metadata": {
        "id": "5995exqHScHL"
      },
      "source": [
        "- Customers who are on housing loan are about 5000 more than those who are not."
      ]
    },
    {
      "cell_type": "markdown",
      "metadata": {
        "id": "R049I5V7S5GY"
      },
      "source": [
        "- Personal loan"
      ]
    },
    {
      "cell_type": "code",
      "metadata": {
        "colab": {
          "base_uri": "https://localhost:8080/",
          "height": 295
        },
        "id": "z9aPBJ2sSew0",
        "outputId": "32df006f-40d3-44d8-83c7-8ef2df4455a2"
      },
      "source": [
        "sns.countplot(x = 'loan', data = df)\n",
        "plt.title(\"Distribution of customers personal loan status\")\n",
        "plt.show()"
      ],
      "execution_count": null,
      "outputs": [
        {
          "output_type": "display_data",
          "data": {
            "image/png": "[encoded data removed]",
            "text/plain": [
              "<Figure size 432x288 with 1 Axes>"
            ]
          },
          "metadata": {
            "tags": [],
            "needs_background": "light"
          }
        }
      ]
    },
    {
      "cell_type": "markdown",
      "metadata": {
        "id": "bhKf3mk2TlT-"
      },
      "source": [
        "- Majority of the customers are not on personal loan."
      ]
    },
    {
      "cell_type": "markdown",
      "metadata": {
        "id": "nVYz6_5LUk-A"
      },
      "source": [
        "- Age"
      ]
    },
    {
      "cell_type": "code",
      "metadata": {
        "colab": {
          "base_uri": "https://localhost:8080/",
          "height": 295
        },
        "id": "4D1qxfhJSe0i",
        "outputId": "9dc49e2e-664e-462f-8b61-38f4496835f1"
      },
      "source": [
        "sns.histplot(data = df, x = 'age')\n",
        "plt.title('Distribution of customers age')\n",
        "plt.show()"
      ],
      "execution_count": null,
      "outputs": [
        {
          "output_type": "display_data",
          "data": {
            "image/png": "[encoded data removed]",
            "text/plain": [
              "<Figure size 432x288 with 1 Axes>"
            ]
          },
          "metadata": {
            "tags": [],
            "needs_background": "light"
          }
        }
      ]
    },
    {
      "cell_type": "markdown",
      "metadata": {
        "id": "qVwplZRZU0pk"
      },
      "source": [
        "- It appears that most of the customers are about 30 to 35 years of age."
      ]
    },
    {
      "cell_type": "code",
      "metadata": {
        "id": "pvz4zP-ZSe32"
      },
      "source": [
        ""
      ],
      "execution_count": null,
      "outputs": []
    },
    {
      "cell_type": "markdown",
      "metadata": {
        "id": "wKBSrMsGVbO4"
      },
      "source": [
        "## Bivariate Analysis\n",
        "- Here, the goal is to investigate the relationship between individual variable against the target variable."
      ]
    },
    {
      "cell_type": "markdown",
      "metadata": {
        "id": "KK6iqowYwB64"
      },
      "source": [
        "- Age vs target"
      ]
    },
    {
      "cell_type": "code",
      "metadata": {
        "colab": {
          "base_uri": "https://localhost:8080/",
          "height": 282
        },
        "id": "I_mWnPvVahwd",
        "outputId": "33fb553d-7af2-440d-ee9c-69d87de7dfc9"
      },
      "source": [
        "import matplotlib.pyplot as plt\n",
        "import seaborn as sns\n",
        "\n",
        "plt.style.use('ggplot')\n",
        "sns.boxplot(x = 'y', y = 'age', data = df)\n",
        "plt.show()"
      ],
      "execution_count": null,
      "outputs": [
        {
          "output_type": "display_data",
          "data": {
            "image/png": "[encoded data removed]",
            "text/plain": [
              "<Figure size 432x288 with 1 Axes>"
            ]
          },
          "metadata": {
            "tags": []
          }
        }
      ]
    },
    {
      "cell_type": "markdown",
      "metadata": {
        "id": "OOE8n2Z0ndmQ"
      },
      "source": [
        "- Based on the plot, it appears that the average age of clients who accepted is about the same as those who declined the deposit campaign. This implies that Age has no significant effect in predicting whether a client would accept the term deposit."
      ]
    },
    {
      "cell_type": "markdown",
      "metadata": {
        "id": "PdPczvXKNN56"
      },
      "source": [
        "- Education vs Target"
      ]
    },
    {
      "cell_type": "code",
      "metadata": {
        "colab": {
          "base_uri": "https://localhost:8080/",
          "height": 386
        },
        "id": "WiOVGoQ8tcD8",
        "outputId": "040259e5-dc76-4a73-97f7-cb7f2eb9bf2a"
      },
      "source": [
        "sns.catplot(y=\"education_Imputed\", hue=\"y\", kind=\"count\",\n",
        "            palette=\"pastel\", edgecolor=\".6\",\n",
        "            data=df)\n",
        "plt.show()"
      ],
      "execution_count": null,
      "outputs": [
        {
          "output_type": "display_data",
          "data": {
            "image/png": "[encoded data removed]",
            "text/plain": [
              "<Figure size 413.25x360 with 1 Axes>"
            ]
          },
          "metadata": {
            "tags": []
          }
        }
      ]
    },
    {
      "cell_type": "markdown",
      "metadata": {
        "id": "FJp1BWT7uA9p"
      },
      "source": [
        "- Based on the plot above, those with secondary and tertiary education tend to decline the term-deposit comapred to those with primary education."
      ]
    },
    {
      "cell_type": "markdown",
      "metadata": {
        "id": "pfGvuxYlwYjI"
      },
      "source": [
        "- Education and Age vs Target"
      ]
    },
    {
      "cell_type": "code",
      "metadata": {
        "colab": {
          "base_uri": "https://localhost:8080/",
          "height": 386
        },
        "id": "Lmxo13sxVczY",
        "outputId": "60725f53-439d-4fbe-bcb2-937f5b3a749c"
      },
      "source": [
        "sns.catplot(x = 'education_Imputed', y = 'age', hue = 'y', data = df, kind = 'bar')\n",
        "plt.show()"
      ],
      "execution_count": null,
      "outputs": [
        {
          "output_type": "display_data",
          "data": {
            "image/png": "[encoded data removed]",
            "text/plain": [
              "<Figure size 413.25x360 with 1 Axes>"
            ]
          },
          "metadata": {
            "tags": []
          }
        }
      ]
    },
    {
      "cell_type": "markdown",
      "metadata": {
        "id": "990d0m_fqxLc"
      },
      "source": [
        "- But after combining the age with the education-level of clients, it appears that clients who are older in age and with basic-level education tend to accept the term-deposit compared to those with secondary or tertiary education."
      ]
    },
    {
      "cell_type": "markdown",
      "metadata": {
        "id": "5rqTYZBwwd_A"
      },
      "source": [
        "- Campaign vs Target"
      ]
    },
    {
      "cell_type": "code",
      "metadata": {
        "colab": {
          "base_uri": "https://localhost:8080/",
          "height": 337
        },
        "id": "YntOl1GOsP_G",
        "outputId": "c72f1c53-99ad-47b6-f567-0a2328491e4e"
      },
      "source": [
        "plt.figure(figsize = (8, 5))\n",
        "plt.style.use('ggplot')\n",
        "sns.boxplot(x = 'y', y = 'campaign', data = df)\n",
        "plt.show()"
      ],
      "execution_count": null,
      "outputs": [
        {
          "output_type": "display_data",
          "data": {
            "image/png": "[encoded data removed]",
            "text/plain": [
              "<Figure size 576x360 with 1 Axes>"
            ]
          },
          "metadata": {
            "tags": []
          }
        }
      ]
    },
    {
      "cell_type": "markdown",
      "metadata": {
        "id": "ka4vnCN0vBWy"
      },
      "source": [
        "- The variable 'campaign' refers to the number of contacts performed during this campaign and for this client (which includes last contact). Based on the plot above, it seems clients who were contacted many times about this campaign tend to decline the term-deposit subscription."
      ]
    },
    {
      "cell_type": "markdown",
      "metadata": {
        "id": "dDdusCDXwitT"
      },
      "source": [
        "- Marital status vs Target"
      ]
    },
    {
      "cell_type": "code",
      "metadata": {
        "colab": {
          "base_uri": "https://localhost:8080/",
          "height": 386
        },
        "id": "GrVN8as-sQD8",
        "outputId": "27d93c97-40dc-464d-c7bd-873610949828"
      },
      "source": [
        "sns.catplot(y=\"marital\", hue=\"y\", kind=\"count\",\n",
        "            palette=\"pastel\", edgecolor=\".6\",\n",
        "            col = 'loan', data=df)\n",
        "plt.show()"
      ],
      "execution_count": null,
      "outputs": [
        {
          "output_type": "display_data",
          "data": {
            "image/png": "[encoded data removed]",
            "text/plain": [
              "<Figure size 773.25x360 with 2 Axes>"
            ]
          },
          "metadata": {
            "tags": []
          }
        }
      ]
    },
    {
      "cell_type": "markdown",
      "metadata": {
        "id": "n7R_ZCKRwu3q"
      },
      "source": [
        "- Majority of the clients who are married and have personal loan tend to decline the term-deposit."
      ]
    },
    {
      "cell_type": "code",
      "metadata": {
        "id": "QAXJdgoxwqRa"
      },
      "source": [
        "sns.catplot(y=\"housing\", hue=\"y\", kind=\"count\",\n",
        "            palette=\"pastel\", edgecolor=\".6\",\n",
        "            data=df)\n",
        "plt.show()\n"
      ],
      "execution_count": null,
      "outputs": []
    },
    {
      "cell_type": "markdown",
      "metadata": {
        "id": "6CWoBFxmyTyZ"
      },
      "source": [
        "- Here, the 'housing' variable represents those with housing loan, and as expected those with housing loan tend to decline the term-deposit more than those with no housing loan. "
      ]
    },
    {
      "cell_type": "code",
      "metadata": {
        "id": "UrOO0-II1uU4",
        "colab": {
          "base_uri": "https://localhost:8080/",
          "height": 386
        },
        "outputId": "c4b403d6-3458-4760-bac9-cda08850a1d3"
      },
      "source": [
        "sns.catplot(y=\"job_Imputed\", hue=\"y\", kind=\"count\",\n",
        "            palette=\"pastel\", edgecolor=\".6\",\n",
        "            data=df)\n",
        "plt.show()"
      ],
      "execution_count": null,
      "outputs": [
        {
          "output_type": "display_data",
          "data": {
            "image/png": "[encoded data removed]",
            "text/plain": [
              "<Figure size 413.25x360 with 1 Axes>"
            ]
          },
          "metadata": {
            "tags": []
          }
        }
      ]
    },
    {
      "cell_type": "markdown",
      "metadata": {
        "id": "DaTsgn7H-L1X"
      },
      "source": [
        "- Based on the plot above, we see that those with blue-collar job and those in management positions tend to decline the term-deposit more compared to those with other types of job."
      ]
    },
    {
      "cell_type": "markdown",
      "metadata": {
        "id": "vfGksuD8HVbi"
      },
      "source": [
        "# Data Preparation\n",
        "- Here, the goal is to prepare the data for modeling. By this, I mean there is need to convert categorical variables to numeric form since most machine learning models cannot handle data in its raw text form. "
      ]
    },
    {
      "cell_type": "markdown",
      "metadata": {
        "id": "4RZ_3_4VIymr"
      },
      "source": [
        "## One-Hot Encoding\n",
        "- A one hot encoding is a representation of categorical variables as binary vectors. This first requires that the categorical values be mapped to integer values. Then, each integer value is represented as a binary vector that is all zero values except the index of the integer, which is marked with a 1.\n",
        "\n"
      ]
    },
    {
      "cell_type": "code",
      "metadata": {
        "colab": {
          "base_uri": "https://localhost:8080/",
          "height": 241
        },
        "id": "Qeo7Gewl-wpm",
        "outputId": "b0917aa5-a7d5-40f6-a72d-149470a75ac5"
      },
      "source": [
        "categorical_cols = [\"housing\", \"marital\", \"loan\", \"education_Imputed\", \"job_Imputed\", \"default\",\n",
        "                    \"contact_Imputed\", \"month\", \"y\"]\n",
        "\n",
        "df = pd.get_dummies(df, columns=categorical_cols, drop_first=True)\n",
        "df.head()"
      ],
      "execution_count": null,
      "outputs": [
        {
          "output_type": "execute_result",
          "data": {
            "text/html": [
              "<div>\n",
              "<style scoped>\n",
              "    .dataframe tbody tr th:only-of-type {\n",
              "        vertical-align: middle;\n",
              "    }\n",
              "\n",
              "    .dataframe tbody tr th {\n",
              "        vertical-align: top;\n",
              "    }\n",
              "\n",
              "    .dataframe thead th {\n",
              "        text-align: right;\n",
              "    }\n",
              "</style>\n",
              "<table border=\"1\" class=\"dataframe\">\n",
              "  <thead>\n",
              "    <tr style=\"text-align: right;\">\n",
              "      <th></th>\n",
              "      <th>age</th>\n",
              "      <th>balance</th>\n",
              "      <th>day</th>\n",
              "      <th>duration</th>\n",
              "      <th>campaign</th>\n",
              "      <th>previous</th>\n",
              "      <th>housing_yes</th>\n",
              "      <th>marital_married</th>\n",
              "      <th>marital_single</th>\n",
              "      <th>loan_yes</th>\n",
              "      <th>education_Imputed_secondary</th>\n",
              "      <th>education_Imputed_tertiary</th>\n",
              "      <th>job_Imputed_blue-collar</th>\n",
              "      <th>job_Imputed_entrepreneur</th>\n",
              "      <th>job_Imputed_housemaid</th>\n",
              "      <th>job_Imputed_management</th>\n",
              "      <th>job_Imputed_retired</th>\n",
              "      <th>job_Imputed_self-employed</th>\n",
              "      <th>job_Imputed_services</th>\n",
              "      <th>job_Imputed_student</th>\n",
              "      <th>job_Imputed_technician</th>\n",
              "      <th>job_Imputed_unemployed</th>\n",
              "      <th>default_yes</th>\n",
              "      <th>contact_Imputed_telephone</th>\n",
              "      <th>month_aug</th>\n",
              "      <th>month_dec</th>\n",
              "      <th>month_feb</th>\n",
              "      <th>month_jan</th>\n",
              "      <th>month_jul</th>\n",
              "      <th>month_jun</th>\n",
              "      <th>month_mar</th>\n",
              "      <th>month_may</th>\n",
              "      <th>month_nov</th>\n",
              "      <th>month_oct</th>\n",
              "      <th>month_sep</th>\n",
              "      <th>y_yes</th>\n",
              "    </tr>\n",
              "  </thead>\n",
              "  <tbody>\n",
              "    <tr>\n",
              "      <th>0</th>\n",
              "      <td>58</td>\n",
              "      <td>2143</td>\n",
              "      <td>5</td>\n",
              "      <td>261</td>\n",
              "      <td>1</td>\n",
              "      <td>0</td>\n",
              "      <td>1</td>\n",
              "      <td>1</td>\n",
              "      <td>0</td>\n",
              "      <td>0</td>\n",
              "      <td>0</td>\n",
              "      <td>1</td>\n",
              "      <td>0</td>\n",
              "      <td>0</td>\n",
              "      <td>0</td>\n",
              "      <td>1</td>\n",
              "      <td>0</td>\n",
              "      <td>0</td>\n",
              "      <td>0</td>\n",
              "      <td>0</td>\n",
              "      <td>0</td>\n",
              "      <td>0</td>\n",
              "      <td>0</td>\n",
              "      <td>0</td>\n",
              "      <td>0</td>\n",
              "      <td>0</td>\n",
              "      <td>0</td>\n",
              "      <td>0</td>\n",
              "      <td>0</td>\n",
              "      <td>0</td>\n",
              "      <td>0</td>\n",
              "      <td>1</td>\n",
              "      <td>0</td>\n",
              "      <td>0</td>\n",
              "      <td>0</td>\n",
              "      <td>0</td>\n",
              "    </tr>\n",
              "    <tr>\n",
              "      <th>1</th>\n",
              "      <td>44</td>\n",
              "      <td>29</td>\n",
              "      <td>5</td>\n",
              "      <td>151</td>\n",
              "      <td>1</td>\n",
              "      <td>0</td>\n",
              "      <td>1</td>\n",
              "      <td>0</td>\n",
              "      <td>1</td>\n",
              "      <td>0</td>\n",
              "      <td>1</td>\n",
              "      <td>0</td>\n",
              "      <td>0</td>\n",
              "      <td>0</td>\n",
              "      <td>0</td>\n",
              "      <td>0</td>\n",
              "      <td>0</td>\n",
              "      <td>0</td>\n",
              "      <td>0</td>\n",
              "      <td>0</td>\n",
              "      <td>1</td>\n",
              "      <td>0</td>\n",
              "      <td>0</td>\n",
              "      <td>0</td>\n",
              "      <td>0</td>\n",
              "      <td>0</td>\n",
              "      <td>0</td>\n",
              "      <td>0</td>\n",
              "      <td>0</td>\n",
              "      <td>0</td>\n",
              "      <td>0</td>\n",
              "      <td>1</td>\n",
              "      <td>0</td>\n",
              "      <td>0</td>\n",
              "      <td>0</td>\n",
              "      <td>0</td>\n",
              "    </tr>\n",
              "    <tr>\n",
              "      <th>2</th>\n",
              "      <td>33</td>\n",
              "      <td>2</td>\n",
              "      <td>5</td>\n",
              "      <td>76</td>\n",
              "      <td>1</td>\n",
              "      <td>0</td>\n",
              "      <td>1</td>\n",
              "      <td>1</td>\n",
              "      <td>0</td>\n",
              "      <td>1</td>\n",
              "      <td>1</td>\n",
              "      <td>0</td>\n",
              "      <td>0</td>\n",
              "      <td>1</td>\n",
              "      <td>0</td>\n",
              "      <td>0</td>\n",
              "      <td>0</td>\n",
              "      <td>0</td>\n",
              "      <td>0</td>\n",
              "      <td>0</td>\n",
              "      <td>0</td>\n",
              "      <td>0</td>\n",
              "      <td>0</td>\n",
              "      <td>0</td>\n",
              "      <td>0</td>\n",
              "      <td>0</td>\n",
              "      <td>0</td>\n",
              "      <td>0</td>\n",
              "      <td>0</td>\n",
              "      <td>0</td>\n",
              "      <td>0</td>\n",
              "      <td>1</td>\n",
              "      <td>0</td>\n",
              "      <td>0</td>\n",
              "      <td>0</td>\n",
              "      <td>0</td>\n",
              "    </tr>\n",
              "    <tr>\n",
              "      <th>3</th>\n",
              "      <td>47</td>\n",
              "      <td>1506</td>\n",
              "      <td>5</td>\n",
              "      <td>92</td>\n",
              "      <td>1</td>\n",
              "      <td>0</td>\n",
              "      <td>1</td>\n",
              "      <td>1</td>\n",
              "      <td>0</td>\n",
              "      <td>0</td>\n",
              "      <td>1</td>\n",
              "      <td>0</td>\n",
              "      <td>1</td>\n",
              "      <td>0</td>\n",
              "      <td>0</td>\n",
              "      <td>0</td>\n",
              "      <td>0</td>\n",
              "      <td>0</td>\n",
              "      <td>0</td>\n",
              "      <td>0</td>\n",
              "      <td>0</td>\n",
              "      <td>0</td>\n",
              "      <td>0</td>\n",
              "      <td>0</td>\n",
              "      <td>0</td>\n",
              "      <td>0</td>\n",
              "      <td>0</td>\n",
              "      <td>0</td>\n",
              "      <td>0</td>\n",
              "      <td>0</td>\n",
              "      <td>0</td>\n",
              "      <td>1</td>\n",
              "      <td>0</td>\n",
              "      <td>0</td>\n",
              "      <td>0</td>\n",
              "      <td>0</td>\n",
              "    </tr>\n",
              "    <tr>\n",
              "      <th>4</th>\n",
              "      <td>33</td>\n",
              "      <td>1</td>\n",
              "      <td>5</td>\n",
              "      <td>198</td>\n",
              "      <td>1</td>\n",
              "      <td>0</td>\n",
              "      <td>0</td>\n",
              "      <td>0</td>\n",
              "      <td>1</td>\n",
              "      <td>0</td>\n",
              "      <td>1</td>\n",
              "      <td>0</td>\n",
              "      <td>1</td>\n",
              "      <td>0</td>\n",
              "      <td>0</td>\n",
              "      <td>0</td>\n",
              "      <td>0</td>\n",
              "      <td>0</td>\n",
              "      <td>0</td>\n",
              "      <td>0</td>\n",
              "      <td>0</td>\n",
              "      <td>0</td>\n",
              "      <td>0</td>\n",
              "      <td>0</td>\n",
              "      <td>0</td>\n",
              "      <td>0</td>\n",
              "      <td>0</td>\n",
              "      <td>0</td>\n",
              "      <td>0</td>\n",
              "      <td>0</td>\n",
              "      <td>0</td>\n",
              "      <td>1</td>\n",
              "      <td>0</td>\n",
              "      <td>0</td>\n",
              "      <td>0</td>\n",
              "      <td>0</td>\n",
              "    </tr>\n",
              "  </tbody>\n",
              "</table>\n",
              "</div>"
            ],
            "text/plain": [
              "   age  balance  day  duration  ...  month_nov  month_oct  month_sep  y_yes\n",
              "0   58     2143    5       261  ...          0          0          0      0\n",
              "1   44       29    5       151  ...          0          0          0      0\n",
              "2   33        2    5        76  ...          0          0          0      0\n",
              "3   47     1506    5        92  ...          0          0          0      0\n",
              "4   33        1    5       198  ...          0          0          0      0\n",
              "\n",
              "[5 rows x 36 columns]"
            ]
          },
          "metadata": {
            "tags": []
          },
          "execution_count": 12
        }
      ]
    },
    {
      "cell_type": "code",
      "metadata": {
        "colab": {
          "base_uri": "https://localhost:8080/"
        },
        "id": "HwtFp0d2hxds",
        "outputId": "57cb5618-a238-487c-c9ba-4ee7be92e842"
      },
      "source": [
        "# Dimension of the transformed data\n",
        "df.shape"
      ],
      "execution_count": null,
      "outputs": [
        {
          "output_type": "execute_result",
          "data": {
            "text/plain": [
              "(45211, 36)"
            ]
          },
          "metadata": {
            "tags": []
          },
          "execution_count": 21
        }
      ]
    },
    {
      "cell_type": "code",
      "metadata": {
        "id": "MEtmediSh3hT",
        "colab": {
          "base_uri": "https://localhost:8080/"
        },
        "outputId": "0ddfaf5f-047d-4b0a-ee16-d446f0c6de0c"
      },
      "source": [
        "df.corr()['y_yes']"
      ],
      "execution_count": null,
      "outputs": [
        {
          "output_type": "execute_result",
          "data": {
            "text/plain": [
              "age                            0.025155\n",
              "balance                        0.052838\n",
              "day                           -0.028348\n",
              "duration                       0.394521\n",
              "campaign                      -0.073172\n",
              "previous                       0.093236\n",
              "housing_yes                   -0.139173\n",
              "marital_married               -0.060260\n",
              "marital_single                 0.063526\n",
              "loan_yes                      -0.068185\n",
              "education_Imputed_secondary   -0.031779\n",
              "education_Imputed_tertiary     0.066448\n",
              "job_Imputed_blue-collar       -0.071279\n",
              "job_Imputed_entrepreneur      -0.019662\n",
              "job_Imputed_housemaid         -0.015195\n",
              "job_Imputed_management         0.032919\n",
              "job_Imputed_retired            0.079245\n",
              "job_Imputed_self-employed      0.000855\n",
              "job_Imputed_services          -0.027864\n",
              "job_Imputed_student            0.076897\n",
              "job_Imputed_technician        -0.008970\n",
              "job_Imputed_unemployed         0.020390\n",
              "default_yes                   -0.022419\n",
              "contact_Imputed_telephone      0.014042\n",
              "month_aug                     -0.008536\n",
              "month_dec                      0.075164\n",
              "month_feb                      0.038417\n",
              "month_jan                     -0.008783\n",
              "month_jul                     -0.034382\n",
              "month_jun                     -0.016805\n",
              "month_mar                      0.129456\n",
              "month_may                     -0.102500\n",
              "month_nov                     -0.014937\n",
              "month_oct                      0.128531\n",
              "month_sep                      0.123185\n",
              "y_yes                          1.000000\n",
              "Name: y_yes, dtype: float64"
            ]
          },
          "metadata": {
            "tags": []
          },
          "execution_count": 19
        }
      ]
    },
    {
      "cell_type": "markdown",
      "metadata": {
        "id": "hcKwQ1V8DZ_x"
      },
      "source": [
        "- From the correlation found above, it appears that the duration variable is very related to the target variable (y). This is because the duration variable refers to the last contact duration. This is because, at the end of the call, the decision of a customer would be known concerning the term deposit. Hence, it might be necessary to drop the variable. "
      ]
    },
    {
      "cell_type": "code",
      "metadata": {
        "id": "krQuFhuUCFmP"
      },
      "source": [
        "# drop the duration variable\n",
        "df1 = df.drop('duration', axis = 1)\n"
      ],
      "execution_count": null,
      "outputs": []
    },
    {
      "cell_type": "code",
      "metadata": {
        "colab": {
          "base_uri": "https://localhost:8080/"
        },
        "id": "wBGqxxTDGJIa",
        "outputId": "ed780133-6ceb-40b8-98cd-63c1c8c13513"
      },
      "source": [
        "df1.columns  # duration has been removed"
      ],
      "execution_count": null,
      "outputs": [
        {
          "output_type": "execute_result",
          "data": {
            "text/plain": [
              "Index(['age', 'balance', 'day', 'campaign', 'previous', 'housing_yes',\n",
              "       'marital_married', 'marital_single', 'loan_yes',\n",
              "       'education_Imputed_secondary', 'education_Imputed_tertiary',\n",
              "       'job_Imputed_blue-collar', 'job_Imputed_entrepreneur',\n",
              "       'job_Imputed_housemaid', 'job_Imputed_management',\n",
              "       'job_Imputed_retired', 'job_Imputed_self-employed',\n",
              "       'job_Imputed_services', 'job_Imputed_student', 'job_Imputed_technician',\n",
              "       'job_Imputed_unemployed', 'default_yes', 'contact_Imputed_telephone',\n",
              "       'month_aug', 'month_dec', 'month_feb', 'month_jan', 'month_jul',\n",
              "       'month_jun', 'month_mar', 'month_may', 'month_nov', 'month_oct',\n",
              "       'month_sep', 'y_yes'],\n",
              "      dtype='object')"
            ]
          },
          "metadata": {
            "tags": []
          },
          "execution_count": 23
        }
      ]
    },
    {
      "cell_type": "code",
      "metadata": {
        "colab": {
          "base_uri": "https://localhost:8080/"
        },
        "id": "m7J185l3fHVZ",
        "outputId": "6986e214-1a30-4379-826a-e2651de677c7"
      },
      "source": [
        "df1['y_yes'].value_counts()"
      ],
      "execution_count": null,
      "outputs": [
        {
          "output_type": "execute_result",
          "data": {
            "text/plain": [
              "0    39922\n",
              "1     5289\n",
              "Name: y_yes, dtype: int64"
            ]
          },
          "metadata": {
            "tags": []
          },
          "execution_count": 24
        }
      ]
    },
    {
      "cell_type": "markdown",
      "metadata": {
        "id": "rIHAxAacfXPQ"
      },
      "source": [
        "- We can see that the majority class is 0 which refers to customers who decline the term deposit. So, we may need to balance the data. However, we would build the model with and without balancing the data with the objective of comparing the models to see which is better."
      ]
    },
    {
      "cell_type": "markdown",
      "metadata": {
        "id": "6E4xtc8YGTDR"
      },
      "source": [
        "# Modelling\n",
        "- Under the modelling section, the following would be performed:\n",
        "  - Select features to build our models\n",
        "  - Split the data into training, validation and testing sets. The training sets will be used to build the model, validation sets will be used to tune the hyperparameters of the model, and the test sets will be used to to finally validate the model built.\n",
        "  - Build several classification models \n",
        "  - Evaluate our model using cross-validation and metrics such as F-Measure\n",
        "  - Handle the imbalance issue and compare the result with the best model with imbalance classes. "
      ]
    },
    {
      "cell_type": "markdown",
      "metadata": {
        "id": "Vvka6BxlM6W6"
      },
      "source": [
        "## Pre-Model Building\n",
        "- This is where I would select the all the features and target for the model. I would also split the data into the training, validation and test sets."
      ]
    },
    {
      "cell_type": "code",
      "metadata": {
        "id": "D4xdPAl4GJM6"
      },
      "source": [
        "# select the features and the target for the model\n",
        "features = df1.drop('y_yes', axis = 1)\n",
        "target = df1['y_yes']"
      ],
      "execution_count": null,
      "outputs": []
    },
    {
      "cell_type": "code",
      "metadata": {
        "colab": {
          "base_uri": "https://localhost:8080/",
          "height": 241
        },
        "id": "YnM5P1apGJQ-",
        "outputId": "b1a1791a-352a-4f93-bb92-6d1563ee0125"
      },
      "source": [
        "# sanity check\n",
        "features.head()"
      ],
      "execution_count": null,
      "outputs": [
        {
          "output_type": "execute_result",
          "data": {
            "text/html": [
              "<div>\n",
              "<style scoped>\n",
              "    .dataframe tbody tr th:only-of-type {\n",
              "        vertical-align: middle;\n",
              "    }\n",
              "\n",
              "    .dataframe tbody tr th {\n",
              "        vertical-align: top;\n",
              "    }\n",
              "\n",
              "    .dataframe thead th {\n",
              "        text-align: right;\n",
              "    }\n",
              "</style>\n",
              "<table border=\"1\" class=\"dataframe\">\n",
              "  <thead>\n",
              "    <tr style=\"text-align: right;\">\n",
              "      <th></th>\n",
              "      <th>age</th>\n",
              "      <th>balance</th>\n",
              "      <th>day</th>\n",
              "      <th>campaign</th>\n",
              "      <th>previous</th>\n",
              "      <th>housing_yes</th>\n",
              "      <th>marital_married</th>\n",
              "      <th>marital_single</th>\n",
              "      <th>loan_yes</th>\n",
              "      <th>education_Imputed_secondary</th>\n",
              "      <th>education_Imputed_tertiary</th>\n",
              "      <th>job_Imputed_blue-collar</th>\n",
              "      <th>job_Imputed_entrepreneur</th>\n",
              "      <th>job_Imputed_housemaid</th>\n",
              "      <th>job_Imputed_management</th>\n",
              "      <th>job_Imputed_retired</th>\n",
              "      <th>job_Imputed_self-employed</th>\n",
              "      <th>job_Imputed_services</th>\n",
              "      <th>job_Imputed_student</th>\n",
              "      <th>job_Imputed_technician</th>\n",
              "      <th>job_Imputed_unemployed</th>\n",
              "      <th>default_yes</th>\n",
              "      <th>contact_Imputed_telephone</th>\n",
              "      <th>month_aug</th>\n",
              "      <th>month_dec</th>\n",
              "      <th>month_feb</th>\n",
              "      <th>month_jan</th>\n",
              "      <th>month_jul</th>\n",
              "      <th>month_jun</th>\n",
              "      <th>month_mar</th>\n",
              "      <th>month_may</th>\n",
              "      <th>month_nov</th>\n",
              "      <th>month_oct</th>\n",
              "      <th>month_sep</th>\n",
              "    </tr>\n",
              "  </thead>\n",
              "  <tbody>\n",
              "    <tr>\n",
              "      <th>0</th>\n",
              "      <td>58</td>\n",
              "      <td>2143</td>\n",
              "      <td>5</td>\n",
              "      <td>1</td>\n",
              "      <td>0</td>\n",
              "      <td>1</td>\n",
              "      <td>1</td>\n",
              "      <td>0</td>\n",
              "      <td>0</td>\n",
              "      <td>0</td>\n",
              "      <td>1</td>\n",
              "      <td>0</td>\n",
              "      <td>0</td>\n",
              "      <td>0</td>\n",
              "      <td>1</td>\n",
              "      <td>0</td>\n",
              "      <td>0</td>\n",
              "      <td>0</td>\n",
              "      <td>0</td>\n",
              "      <td>0</td>\n",
              "      <td>0</td>\n",
              "      <td>0</td>\n",
              "      <td>0</td>\n",
              "      <td>0</td>\n",
              "      <td>0</td>\n",
              "      <td>0</td>\n",
              "      <td>0</td>\n",
              "      <td>0</td>\n",
              "      <td>0</td>\n",
              "      <td>0</td>\n",
              "      <td>1</td>\n",
              "      <td>0</td>\n",
              "      <td>0</td>\n",
              "      <td>0</td>\n",
              "    </tr>\n",
              "    <tr>\n",
              "      <th>1</th>\n",
              "      <td>44</td>\n",
              "      <td>29</td>\n",
              "      <td>5</td>\n",
              "      <td>1</td>\n",
              "      <td>0</td>\n",
              "      <td>1</td>\n",
              "      <td>0</td>\n",
              "      <td>1</td>\n",
              "      <td>0</td>\n",
              "      <td>1</td>\n",
              "      <td>0</td>\n",
              "      <td>0</td>\n",
              "      <td>0</td>\n",
              "      <td>0</td>\n",
              "      <td>0</td>\n",
              "      <td>0</td>\n",
              "      <td>0</td>\n",
              "      <td>0</td>\n",
              "      <td>0</td>\n",
              "      <td>1</td>\n",
              "      <td>0</td>\n",
              "      <td>0</td>\n",
              "      <td>0</td>\n",
              "      <td>0</td>\n",
              "      <td>0</td>\n",
              "      <td>0</td>\n",
              "      <td>0</td>\n",
              "      <td>0</td>\n",
              "      <td>0</td>\n",
              "      <td>0</td>\n",
              "      <td>1</td>\n",
              "      <td>0</td>\n",
              "      <td>0</td>\n",
              "      <td>0</td>\n",
              "    </tr>\n",
              "    <tr>\n",
              "      <th>2</th>\n",
              "      <td>33</td>\n",
              "      <td>2</td>\n",
              "      <td>5</td>\n",
              "      <td>1</td>\n",
              "      <td>0</td>\n",
              "      <td>1</td>\n",
              "      <td>1</td>\n",
              "      <td>0</td>\n",
              "      <td>1</td>\n",
              "      <td>1</td>\n",
              "      <td>0</td>\n",
              "      <td>0</td>\n",
              "      <td>1</td>\n",
              "      <td>0</td>\n",
              "      <td>0</td>\n",
              "      <td>0</td>\n",
              "      <td>0</td>\n",
              "      <td>0</td>\n",
              "      <td>0</td>\n",
              "      <td>0</td>\n",
              "      <td>0</td>\n",
              "      <td>0</td>\n",
              "      <td>0</td>\n",
              "      <td>0</td>\n",
              "      <td>0</td>\n",
              "      <td>0</td>\n",
              "      <td>0</td>\n",
              "      <td>0</td>\n",
              "      <td>0</td>\n",
              "      <td>0</td>\n",
              "      <td>1</td>\n",
              "      <td>0</td>\n",
              "      <td>0</td>\n",
              "      <td>0</td>\n",
              "    </tr>\n",
              "    <tr>\n",
              "      <th>3</th>\n",
              "      <td>47</td>\n",
              "      <td>1506</td>\n",
              "      <td>5</td>\n",
              "      <td>1</td>\n",
              "      <td>0</td>\n",
              "      <td>1</td>\n",
              "      <td>1</td>\n",
              "      <td>0</td>\n",
              "      <td>0</td>\n",
              "      <td>1</td>\n",
              "      <td>0</td>\n",
              "      <td>1</td>\n",
              "      <td>0</td>\n",
              "      <td>0</td>\n",
              "      <td>0</td>\n",
              "      <td>0</td>\n",
              "      <td>0</td>\n",
              "      <td>0</td>\n",
              "      <td>0</td>\n",
              "      <td>0</td>\n",
              "      <td>0</td>\n",
              "      <td>0</td>\n",
              "      <td>0</td>\n",
              "      <td>0</td>\n",
              "      <td>0</td>\n",
              "      <td>0</td>\n",
              "      <td>0</td>\n",
              "      <td>0</td>\n",
              "      <td>0</td>\n",
              "      <td>0</td>\n",
              "      <td>1</td>\n",
              "      <td>0</td>\n",
              "      <td>0</td>\n",
              "      <td>0</td>\n",
              "    </tr>\n",
              "    <tr>\n",
              "      <th>4</th>\n",
              "      <td>33</td>\n",
              "      <td>1</td>\n",
              "      <td>5</td>\n",
              "      <td>1</td>\n",
              "      <td>0</td>\n",
              "      <td>0</td>\n",
              "      <td>0</td>\n",
              "      <td>1</td>\n",
              "      <td>0</td>\n",
              "      <td>1</td>\n",
              "      <td>0</td>\n",
              "      <td>1</td>\n",
              "      <td>0</td>\n",
              "      <td>0</td>\n",
              "      <td>0</td>\n",
              "      <td>0</td>\n",
              "      <td>0</td>\n",
              "      <td>0</td>\n",
              "      <td>0</td>\n",
              "      <td>0</td>\n",
              "      <td>0</td>\n",
              "      <td>0</td>\n",
              "      <td>0</td>\n",
              "      <td>0</td>\n",
              "      <td>0</td>\n",
              "      <td>0</td>\n",
              "      <td>0</td>\n",
              "      <td>0</td>\n",
              "      <td>0</td>\n",
              "      <td>0</td>\n",
              "      <td>1</td>\n",
              "      <td>0</td>\n",
              "      <td>0</td>\n",
              "      <td>0</td>\n",
              "    </tr>\n",
              "  </tbody>\n",
              "</table>\n",
              "</div>"
            ],
            "text/plain": [
              "   age  balance  day  campaign  ...  month_may  month_nov  month_oct  month_sep\n",
              "0   58     2143    5         1  ...          1          0          0          0\n",
              "1   44       29    5         1  ...          1          0          0          0\n",
              "2   33        2    5         1  ...          1          0          0          0\n",
              "3   47     1506    5         1  ...          1          0          0          0\n",
              "4   33        1    5         1  ...          1          0          0          0\n",
              "\n",
              "[5 rows x 34 columns]"
            ]
          },
          "metadata": {
            "tags": []
          },
          "execution_count": 15
        }
      ]
    },
    {
      "cell_type": "code",
      "metadata": {
        "colab": {
          "base_uri": "https://localhost:8080/"
        },
        "id": "lmlVFYCfGJUr",
        "outputId": "c9eb700c-47ed-42b4-83e6-88a47a478ff0"
      },
      "source": [
        "target[:2]"
      ],
      "execution_count": null,
      "outputs": [
        {
          "output_type": "execute_result",
          "data": {
            "text/plain": [
              "0    0\n",
              "1    0\n",
              "Name: y_yes, dtype: uint8"
            ]
          },
          "metadata": {
            "tags": []
          },
          "execution_count": 27
        }
      ]
    },
    {
      "cell_type": "code",
      "metadata": {
        "id": "6aIFRDtWMyeS"
      },
      "source": [
        "# split the data into training, validation, and test sets\n",
        "from sklearn.model_selection import train_test_split\n",
        "\n",
        "# split the data into training_val and test set\n",
        "X_train_val, X_test, y_train_val, y_test = train_test_split(features, target, test_size = 0.2, random_state = 0)\n",
        "\n",
        "# split the training_val into training and validation\n",
        "X_train, X_val, y_train, y_val = train_test_split(X_train_val, y_train_val, test_size = 0.2, random_state = 0)\n"
      ],
      "execution_count": null,
      "outputs": []
    },
    {
      "cell_type": "code",
      "metadata": {
        "colab": {
          "base_uri": "https://localhost:8080/"
        },
        "id": "UnOEeHGWULir",
        "outputId": "26809e8f-8514-45e5-aaff-359c11e2b3df"
      },
      "source": [
        "# check the length of the datasets\n",
        "X_train.shape, X_test.shape, X_val.shape"
      ],
      "execution_count": null,
      "outputs": [
        {
          "output_type": "execute_result",
          "data": {
            "text/plain": [
              "((28934, 34), (9043, 34), (7234, 34))"
            ]
          },
          "metadata": {
            "tags": []
          },
          "execution_count": 17
        }
      ]
    },
    {
      "cell_type": "markdown",
      "metadata": {
        "id": "JgYJVTHnc-gV"
      },
      "source": [
        "## Standardization\n",
        "- Here, I would scale the features in order to bring all the features to a similar range. There are several options to scale the data such as MinMax Scaler and Standard Scaler. MinMax Scaler scales the data to a range of 0 and 1, while the Standard Scaler scales the data with a mean of 0 and standard deviation of 1.\n",
        "- It is advisable to scale our data because some algorithms makes use of distance function in building the model. Therefore, features with very large values may dominate the model, thereby resulting in a bias model."
      ]
    },
    {
      "cell_type": "code",
      "metadata": {
        "id": "iZh9C-u8c9uF"
      },
      "source": [
        "# load the standard scaler module\n",
        "from sklearn.preprocessing import StandardScaler\n",
        "\n",
        "# create an instance of the scaler\n",
        "scaler = StandardScaler()\n",
        "\n",
        "# scaler the training, validation and test set\n",
        "X_train_scaled = scaler.fit_transform(X_train)\n",
        "X_val_scaled = scaler.transform(X_val)\n",
        "X_test_scaled = scaler.transform(X_test)"
      ],
      "execution_count": null,
      "outputs": []
    },
    {
      "cell_type": "markdown",
      "metadata": {
        "id": "IOkR7RVLNkqJ"
      },
      "source": [
        ""
      ]
    },
    {
      "cell_type": "markdown",
      "metadata": {
        "id": "KgxjK2-nY4jl"
      },
      "source": [
        "## Model Building\n",
        "- Here, I would try out different models and comapare their performances with the metrics \"accuracy\", \"precision\", and \"recall\", and \"F-score\".\n",
        "\n"
      ]
    },
    {
      "cell_type": "markdown",
      "metadata": {
        "id": "GKXdvyQXNqN7"
      },
      "source": [
        "### K-Nearest Neighbor Classifier (KNN)\n",
        "- KNN Classifier is a classification model used for supervised learning where we have a target label associated with the features. It is called a lazy algorithm because it only stores the training data points. So, to make a prediction for a new data point, it only considers the closest point(s) in the training set to the new data point."
      ]
    },
    {
      "cell_type": "code",
      "metadata": {
        "colab": {
          "base_uri": "https://localhost:8080/"
        },
        "id": "iXb_MyRvULxA",
        "outputId": "d9dac5c0-c5c6-41e9-dfc1-79432e9c4768"
      },
      "source": [
        "# load the KNN Classifier \n",
        "from sklearn.neighbors import KNeighborsClassifier\n",
        "from sklearn.metrics import confusion_matrix, classification_report\n",
        "from sklearn.metrics import precision_score, recall_score, f1_score\n",
        "\n",
        "# create an instance of the classifier\n",
        "knn = KNeighborsClassifier()  # using the default number of neighbors (5)\n",
        "\n",
        "# build the model\n",
        "knn_model = knn.fit(X_train_scaled, y_train)\n",
        "\n",
        "# check the accuracy measure on the training and validation set\n",
        "print(\"Training Accuracy: {:.4f}\".format(knn.score(X_train_scaled, y_train)))\n",
        "print(\"Validation Accuracy: {:.4f}\".format(knn.score(X_val_scaled, y_val)))"
      ],
      "execution_count": null,
      "outputs": [
        {
          "output_type": "stream",
          "text": [
            "Training Accuracy: 0.9007\n",
            "Validation Accuracy: 0.8768\n"
          ],
          "name": "stdout"
        }
      ]
    },
    {
      "cell_type": "markdown",
      "metadata": {
        "id": "6RCvXpaj_oDR"
      },
      "source": [
        "- Our KNN model has a validation accuracy of about 87.7%."
      ]
    },
    {
      "cell_type": "markdown",
      "metadata": {
        "id": "bsglICqePQ0h"
      },
      "source": [
        "- In addition to the accuracy metrics, we would like to observe the precision, recall, and F-score of each model."
      ]
    },
    {
      "cell_type": "code",
      "metadata": {
        "colab": {
          "base_uri": "https://localhost:8080/"
        },
        "id": "JNUZHZAXI-jk",
        "outputId": "fb8fb268-36b8-44c4-a8e8-7c7ba7bd8eeb"
      },
      "source": [
        "print(knn)"
      ],
      "execution_count": null,
      "outputs": [
        {
          "output_type": "stream",
          "text": [
            "KNeighborsClassifier(algorithm='auto', leaf_size=30, metric='minkowski',\n",
            "                     metric_params=None, n_jobs=None, n_neighbors=5, p=2,\n",
            "                     weights='uniform')\n"
          ],
          "name": "stdout"
        }
      ]
    },
    {
      "cell_type": "markdown",
      "metadata": {
        "id": "pgq-_FVXVd5l"
      },
      "source": [
        "#### Precision and Recall for the first KNN model"
      ]
    },
    {
      "cell_type": "code",
      "metadata": {
        "colab": {
          "base_uri": "https://localhost:8080/"
        },
        "id": "VYSSoYcdOLwN",
        "outputId": "e7a868d2-6a6a-4ef6-c183-839d47f6a535"
      },
      "source": [
        "# First, we make a prediction on the test data \n",
        "knn_pred = knn_model.predict(X_test_scaled)\n",
        "\n",
        "# calculate the precision and recall scores\n",
        "knn_precision = precision_score(y_test, knn_pred)\n",
        "knn_recall = recall_score(y_test, knn_pred)\n",
        "knn_f_score = f1_score(y_test, knn_pred)\n",
        "\n",
        "print(\"KNN Precision score: {:.4f}\".format(knn_precision))\n",
        "print(\"KNN Recall score: {:.4f}\".format(knn_recall))\n",
        "print(\"KNN F score: {:.4f}\".format(knn_f_score))"
      ],
      "execution_count": null,
      "outputs": [
        {
          "output_type": "stream",
          "text": [
            "KNN Precision score: 0.4257\n",
            "KNN Recall score: 0.1590\n",
            "KNN F score: 0.2315\n"
          ],
          "name": "stdout"
        }
      ]
    },
    {
      "cell_type": "markdown",
      "metadata": {
        "id": "wCO7OYfdQC0n"
      },
      "source": [
        "- Based on the results of the precision and recall scores, we have a precision of 42.6% and recall of 15.9%. This may be due to the imbalance classes in the data. This is interesting as we would like to compare these against the precision and recall after we address the imbalance issue. Finally, the F-score of the KNN model is 23.2%."
      ]
    },
    {
      "cell_type": "code",
      "metadata": {
        "colab": {
          "base_uri": "https://localhost:8080/"
        },
        "id": "4hv5StFQcVOS",
        "outputId": "3e34f44c-9ffc-45d1-c2ca-788fffea1e5a"
      },
      "source": [
        "print(knn)    # check the hyperparameters used for the KNN model"
      ],
      "execution_count": null,
      "outputs": [
        {
          "output_type": "stream",
          "text": [
            "KNeighborsClassifier(algorithm='auto', leaf_size=30, metric='minkowski',\n",
            "                     metric_params=None, n_jobs=None, n_neighbors=5, p=2,\n",
            "                     weights='uniform')\n"
          ],
          "name": "stdout"
        }
      ]
    },
    {
      "cell_type": "markdown",
      "metadata": {
        "id": "pjA8VCt8ij3h"
      },
      "source": [
        "- The major hyperparameter we can tune here is the 'n_neighbors' which refers to the number of neighbors in the training set closest to the new data point we want to predict label for. So, I would consider few other neighbors and then visualize the accuracy for each neighbor."
      ]
    },
    {
      "cell_type": "code",
      "metadata": {
        "colab": {
          "base_uri": "https://localhost:8080/",
          "height": 265
        },
        "id": "PxxrcpbNiUkV",
        "outputId": "8da8b3cb-6c0d-41eb-a2c9-ec53798740c4"
      },
      "source": [
        "num_neighbors = [5, 6, 7, 8, 9, 10, 15, 20]\n",
        "\n",
        "training_accuracy = []\n",
        "validation_accuracy = []\n",
        "\n",
        "for n_neighbors in num_neighbors:\n",
        "  knn = KNeighborsClassifier(n_neighbors=n_neighbors)\n",
        "  knn_model = knn.fit(X_train_scaled, y_train)\n",
        "\n",
        "  # append the training accuracy to the training accuracy list\n",
        "  training_accuracy.append(knn.score(X_train_scaled, y_train))\n",
        "  validation_accuracy.append(knn.score(X_val_scaled, y_val))\n",
        "\n",
        "# visualize the plot\n",
        "plt.plot(num_neighbors, training_accuracy, label = \"training accuracy\") \n",
        "plt.plot(num_neighbors, validation_accuracy, label = \"validation accuracy\")\n",
        "plt.legend(loc = 'best')\n",
        "plt.show() "
      ],
      "execution_count": null,
      "outputs": [
        {
          "output_type": "display_data",
          "data": {
            "image/png": "[encoded data removed]",
            "text/plain": [
              "<Figure size 432x288 with 1 Axes>"
            ]
          },
          "metadata": {
            "tags": []
          }
        }
      ]
    },
    {
      "cell_type": "markdown",
      "metadata": {
        "id": "qlHL1aYaNB3B"
      },
      "source": [
        "- It appears that our KNN model overfits for all the different number of neighbors considered. I would refit the KNN model with 9 number of neigbors as that gives a fairaly better result than the default value."
      ]
    },
    {
      "cell_type": "code",
      "metadata": {
        "id": "MsEM8mOYlcoX",
        "colab": {
          "base_uri": "https://localhost:8080/"
        },
        "outputId": "32d508b9-43f2-4817-846b-542106f4e234"
      },
      "source": [
        "# create an instance of the classifier\n",
        "knn2 = KNeighborsClassifier(n_neighbors = 9)  # using the default number of neighbors (5)\n",
        "\n",
        "# build the model\n",
        "knn_model2 = knn2.fit(X_train_scaled, y_train)\n",
        "\n",
        "# check the accuracy measure on the training and validation set\n",
        "print(\"Training Accuracy: {:.4f}\".format(knn2.score(X_train_scaled, y_train)))\n",
        "print(\"Validation Accuracy: {:.4f}\".format(knn2.score(X_val_scaled, y_val)))"
      ],
      "execution_count": null,
      "outputs": [
        {
          "output_type": "stream",
          "text": [
            "Training Accuracy: 0.8930\n",
            "Validation Accuracy: 0.8822\n"
          ],
          "name": "stdout"
        }
      ]
    },
    {
      "cell_type": "markdown",
      "metadata": {
        "id": "KCqtuduxuWlR"
      },
      "source": [
        "So, we see the training accuracy reduces a bit while the validation accuracy increases from 87.7% to 88.2% with 9 neighors. This suggest that, the KNN model (knn_model2) perform better than the first model in terms of predicting term-deposit subscription."
      ]
    },
    {
      "cell_type": "markdown",
      "metadata": {
        "id": "FcDq8S2NVt8B"
      },
      "source": [
        "#### Precision and Recall for the seconmd KNN model"
      ]
    },
    {
      "cell_type": "code",
      "metadata": {
        "colab": {
          "base_uri": "https://localhost:8080/"
        },
        "id": "Q-Q__fuNRIb0",
        "outputId": "8aceac90-c21a-4b83-bc1d-b752a2543a49"
      },
      "source": [
        "# First, we make a prediction on the test data \n",
        "knn2_pred = knn2.predict(X_test_scaled)\n",
        "\n",
        "# calculate the precision and recall scores\n",
        "knn2_precision = precision_score(y_test, knn2_pred)\n",
        "knn2_recall = recall_score(y_test, knn2_pred)\n",
        "knn2_f_score = f1_score(y_test, knn2_pred)\n",
        "\n",
        "print(\"KNN Precision score: {:.4f}\".format(knn2_precision))\n",
        "print(\"KNN Recall score: {:.4f}\".format(knn2_recall))\n",
        "print(\"KNN F score: {:.4f}\".format(knn2_f_score))"
      ],
      "execution_count": null,
      "outputs": [
        {
          "output_type": "stream",
          "text": [
            "KNN Precision score: 0.4464\n",
            "KNN Recall score: 0.1176\n",
            "KNN F score: 0.1862\n"
          ],
          "name": "stdout"
        }
      ]
    },
    {
      "cell_type": "markdown",
      "metadata": {
        "id": "zYw2rvGiR6jB"
      },
      "source": [
        "- Here, we a precision of 44.6%, recall of 11.7%, and an F score of 18.6%."
      ]
    },
    {
      "cell_type": "markdown",
      "metadata": {
        "id": "w1lORVJ-ITWB"
      },
      "source": [
        "### Logistic Regression\n",
        "- This is a linear model used to solve a binary classification problem such that the output are constrained to a form of 0 or 1, so that it can be interpreted as a probability.\n",
        "- The goal is that, if the predicted probability is greater than 0.5, then class 1 is predicted, otherwise, class 0 is predicted. This implies, I am considering the threshold to be 0.5."
      ]
    },
    {
      "cell_type": "code",
      "metadata": {
        "id": "1tGOQjq7Oq-5",
        "colab": {
          "base_uri": "https://localhost:8080/"
        },
        "outputId": "65f4037d-5e51-4b1e-9e20-ec8aa5374e25"
      },
      "source": [
        "from sklearn.linear_model import LogisticRegression\n",
        "\n",
        "# create an instance of the Logistic regression model\n",
        "logreg1 = LogisticRegression(random_state=0)\n",
        "\n",
        "# fit the logistic regression on the training and validation sets\n",
        "logreg1.fit(X_train_scaled, y_train)\n",
        "\n",
        "print(\"Logistic training accuracy: {:.4f}\".format(logreg1.score(X_train_scaled, y_train)))\n",
        "print(\"Logistic validation accuracy: {:.4f}\".format(logreg1.score(X_val_scaled, y_val)))"
      ],
      "execution_count": null,
      "outputs": [
        {
          "output_type": "stream",
          "text": [
            "Logistic training accuracy: 0.8838\n",
            "Logistic validation accuracy: 0.8828\n"
          ],
          "name": "stdout"
        }
      ]
    },
    {
      "cell_type": "markdown",
      "metadata": {
        "id": "GM93aUQhMhFB"
      },
      "source": [
        "- One of the hyparameters to tune in the Logistic regression above is the parameter C, which signifies the strength of regularization applied to the model. By regularization, we mean a way of restricting the coefficients of the model to reduce their impacts on the model. Smaller value of C implies more regularization and vice versa. Here, I would consider a value of 0.5 instead of the default 1.0 value of C."
      ]
    },
    {
      "cell_type": "code",
      "metadata": {
        "colab": {
          "base_uri": "https://localhost:8080/"
        },
        "id": "z5RrdrFSMUbp",
        "outputId": "7415943a-ad71-4113-fac6-25010ea398c1"
      },
      "source": [
        "logreg2 = LogisticRegression(C = 0.5)\n",
        "\n",
        "# fit the logistic regression on the training and validation sets\n",
        "logreg2.fit(X_train_scaled, y_train)\n",
        "\n",
        "print(\"Logistic training accuracy: {:.4f}\".format(logreg2.score(X_train_scaled, y_train)))\n",
        "print(\"Logistic validation accuracy: {:.4f}\".format(logreg2.score(X_val_scaled, y_val)))"
      ],
      "execution_count": null,
      "outputs": [
        {
          "output_type": "stream",
          "text": [
            "Logistic training accuracy: 0.8838\n",
            "Logistic validation accuracy: 0.8828\n"
          ],
          "name": "stdout"
        }
      ]
    },
    {
      "cell_type": "markdown",
      "metadata": {
        "id": "ghGX9rZ5LsXd"
      },
      "source": [
        "- From the result above, we can say that the Logistic regression performance is approximately equal to that of the KNN model, and that there is no difference in the results of the two Logistic regression models. "
      ]
    },
    {
      "cell_type": "markdown",
      "metadata": {
        "id": "vGyr2MKuWSDI"
      },
      "source": [
        "##### Precision and Recall for the first and second Logistic Regression model."
      ]
    },
    {
      "cell_type": "code",
      "metadata": {
        "colab": {
          "base_uri": "https://localhost:8080/"
        },
        "id": "A84WpONuSbEz",
        "outputId": "45b8b562-be1f-428d-c010-c3c4e4045136"
      },
      "source": [
        "# First, we make a prediction on the test data \n",
        "logreg_pred = logreg1.predict(X_test_scaled)\n",
        "\n",
        "# calculate the precision and recall scores\n",
        "logreg_precision = precision_score(y_test, logreg_pred)\n",
        "logreg_recall = recall_score(y_test, logreg_pred)\n",
        "logreg_f_score = f1_score(y_test, logreg_pred)\n",
        "\n",
        "print(\"Logistic Precision score: {:.4f}\".format(logreg_precision))\n",
        "print(\"Logistic Recall score: {:.4f}\".format(logreg_recall))\n",
        "print(\"Logistic F score: {:.4f}\".format(logreg_f_score))"
      ],
      "execution_count": null,
      "outputs": [
        {
          "output_type": "stream",
          "text": [
            "Logistic Precision score: 0.4526\n",
            "Logistic Recall score: 0.0583\n",
            "Logistic F score: 0.1033\n"
          ],
          "name": "stdout"
        }
      ]
    },
    {
      "cell_type": "markdown",
      "metadata": {
        "id": "SDy0GkXLTAxP"
      },
      "source": [
        "- Similarly, the precision and recall of the Logistic regression model are opposite to that of the KNN models, in that the precision is higher thatn the recall for Logistic regression. Also, the F score is about 10%."
      ]
    },
    {
      "cell_type": "markdown",
      "metadata": {
        "id": "sYbtQzpBNnMk"
      },
      "source": [
        "### Tree-based models\n",
        "- Next, we consider tree-based models like Decision tree, Random Forest and Gradient Boosting. Tree-based models are non-parameteric models whose basis are the decision trees.\n",
        "- Tree-based models are invariant to feature scaling, hence we do not need to scale the features to a similar range when building tree-based models.\n",
        "#### Decision Trees \n",
        "- Decision trees are series of decision rules starting from the top node called the root node to the end node containing no decision rule called a leaf.\n",
        "- Decision tree learners attempt to find decision rules that produces the greatest decrease in impurity. By default, it uses the Gini impurity to measure how level of impurity at each node of the tree."
      ]
    },
    {
      "cell_type": "code",
      "metadata": {
        "id": "sFz8muM3KjfU",
        "colab": {
          "base_uri": "https://localhost:8080/"
        },
        "outputId": "33e3d7d2-0e5b-4013-e8b9-08b40db024c7"
      },
      "source": [
        "from sklearn.tree import DecisionTreeClassifier\n",
        "\n",
        "# create an instance of the classifier\n",
        "tree1 = DecisionTreeClassifier(random_state = 0)\n",
        "\n",
        "# fit the logistic regression on the training and validation sets\n",
        "tree1.fit(X_train, y_train)\n",
        "\n",
        "print(\"Decision tree training accuracy: {:.4f}\".format(tree1.score(X_train, y_train)))\n",
        "print(\"Decision tree validation accuracy: {:.4f}\".format(tree1.score(X_val, y_val)))"
      ],
      "execution_count": null,
      "outputs": [
        {
          "output_type": "stream",
          "text": [
            "Decision tree training accuracy: 1.0000\n",
            "Decision tree validation accuracy: 0.8155\n"
          ],
          "name": "stdout"
        }
      ]
    },
    {
      "cell_type": "markdown",
      "metadata": {
        "id": "yVKdSkElSuRr"
      },
      "source": [
        "- As seen above, decision tree is prone to overfitting, where the model performed well on the training data and worse on new data. Therefore, we can either stop the building of the model early (setting the depth of the tree) of we consider collection of trees such as ensemble or boosting methods."
      ]
    },
    {
      "cell_type": "markdown",
      "metadata": {
        "id": "q88xBLD1WrT2"
      },
      "source": [
        "##### Precision and Recall for the first Decision Tree model."
      ]
    },
    {
      "cell_type": "code",
      "metadata": {
        "colab": {
          "base_uri": "https://localhost:8080/"
        },
        "id": "QpHdXSzURaMP",
        "outputId": "a5f178c6-92ff-4485-e836-b6934717adfe"
      },
      "source": [
        "# First, we make a prediction on the test data \n",
        "tree1_pred = tree1.predict(X_test)\n",
        "\n",
        "# calculate the precision and recall scores\n",
        "tree1_precision = precision_score(y_test, tree1_pred)\n",
        "tree1_recall = recall_score(y_test, tree1_pred)\n",
        "tree1_f_score = f1_score(y_test, tree1_pred)\n",
        "\n",
        "print(\"Decision tree 1 Precision score: {:.4f}\".format(tree1_precision))\n",
        "print(\"Decision tree 1 Recall score: {:.4f}\".format(tree1_recall))\n",
        "print(\"Decision tree 1 F score: {:.4f}\".format(tree1_f_score))"
      ],
      "execution_count": null,
      "outputs": [
        {
          "output_type": "stream",
          "text": [
            "Decision tree 1 Precision score: 0.2546\n",
            "Decision tree 1 Recall score: 0.2756\n",
            "Decision tree 1 F score: 0.2647\n"
          ],
          "name": "stdout"
        }
      ]
    },
    {
      "cell_type": "markdown",
      "metadata": {
        "id": "VUqnI1JTP7hN"
      },
      "source": [
        "- The recall of the Decision tree is slightly more than the precision with precision of about 25% and recall of about 27%. Also, the F score is about 26%."
      ]
    },
    {
      "cell_type": "code",
      "metadata": {
        "colab": {
          "base_uri": "https://localhost:8080/"
        },
        "id": "NXqpdHLDQ8p3",
        "outputId": "83489414-a037-4d0e-cac2-c5ec9bab8f98"
      },
      "source": [
        "print(tree1)"
      ],
      "execution_count": null,
      "outputs": [
        {
          "output_type": "stream",
          "text": [
            "DecisionTreeClassifier(ccp_alpha=0.0, class_weight=None, criterion='gini',\n",
            "                       max_depth=None, max_features=None, max_leaf_nodes=None,\n",
            "                       min_impurity_decrease=0.0, min_impurity_split=None,\n",
            "                       min_samples_leaf=1, min_samples_split=2,\n",
            "                       min_weight_fraction_leaf=0.0, presort='deprecated',\n",
            "                       random_state=0, splitter='best')\n"
          ],
          "name": "stdout"
        }
      ]
    },
    {
      "cell_type": "markdown",
      "metadata": {
        "id": "1ST6p6cmSbmC"
      },
      "source": [
        "- Instead of allowing the tree to be fully built, we have decided to stop the tree building at the depth of 5 to see the effect on the model performance. This is necessary as Decision tree is prone to overfitting, so reducing the depth of the tree can reduce the rate of overfitting."
      ]
    },
    {
      "cell_type": "code",
      "metadata": {
        "colab": {
          "base_uri": "https://localhost:8080/"
        },
        "id": "Q6bTJwZHREFg",
        "outputId": "7e86ad54-ba93-4302-c48a-010c53adb03f"
      },
      "source": [
        "# create an instance of the classifier\n",
        "tree2 = DecisionTreeClassifier(random_state = 0, max_depth=5)\n",
        "\n",
        "# fit the logistic regression on the training and validation sets\n",
        "tree2.fit(X_train, y_train)\n",
        "\n",
        "print(\"Decision tree training accuracy: {:.4f}\".format(tree2.score(X_train, y_train)))\n",
        "print(\"Decision tree validation accuracy: {:.4f}\".format(tree2.score(X_val, y_val)))"
      ],
      "execution_count": null,
      "outputs": [
        {
          "output_type": "stream",
          "text": [
            "Decision tree training accuracy: 0.8863\n",
            "Decision tree validation accuracy: 0.8814\n"
          ],
          "name": "stdout"
        }
      ]
    },
    {
      "cell_type": "markdown",
      "metadata": {
        "id": "BX39FXyvUA_-"
      },
      "source": [
        "- It appears that reducing the depth of the tree to about 5 reduces the training accuracy and increases the test accuracy, hence solving the overfitting problem."
      ]
    },
    {
      "cell_type": "markdown",
      "metadata": {
        "id": "3AWgY2qsWvXO"
      },
      "source": [
        "##### Precision and Recall for the second Decision Tree model."
      ]
    },
    {
      "cell_type": "code",
      "metadata": {
        "colab": {
          "base_uri": "https://localhost:8080/"
        },
        "id": "zfCACqr3UADX",
        "outputId": "2c89c887-4bef-4c16-e8b7-680de4f632ae"
      },
      "source": [
        "# First, we make a prediction on the test data \n",
        "tree2_pred = tree2.predict(X_test)\n",
        "\n",
        "# calculate the precision and recall scores\n",
        "tree2_precision = precision_score(y_test, tree2_pred)\n",
        "tree2_recall = recall_score(y_test, tree2_pred)\n",
        "tree2_f_score = f1_score(y_test, tree2_pred)\n",
        "\n",
        "print(\"Decision tree 2 Precision score: {:.4f}\".format(tree2_precision))\n",
        "print(\"Decision tree 2 Recall score: {:.4f}\".format(tree2_recall))\n",
        "print(\"Decision tree 2 F score: {:.4f}\".format(tree2_f_score))"
      ],
      "execution_count": null,
      "outputs": [
        {
          "output_type": "stream",
          "text": [
            "Decision tree 2 Precision score: 0.4545\n",
            "Decision tree 2 Recall score: 0.0376\n",
            "Decision tree 2 F score: 0.0695\n"
          ],
          "name": "stdout"
        }
      ]
    },
    {
      "cell_type": "markdown",
      "metadata": {
        "id": "u6Bg9GYJXLfy"
      },
      "source": [
        "- Here, we see that the precision for the pruned decision tree increases from about 25% to about 45%, while the recall decreases. Also, the F score is very low (about 7%)."
      ]
    },
    {
      "cell_type": "markdown",
      "metadata": {
        "id": "g1Oyi33TZavN"
      },
      "source": [
        "#### Random Forests\n",
        "- In a random forest, many decision trees are trained, but each tree only receives a bootstrapped sample of observations (i.e., a random sample of observations with replacement that matches the original number of observations) and each node only considers a subset of features when determining the best split."
      ]
    },
    {
      "cell_type": "code",
      "metadata": {
        "colab": {
          "base_uri": "https://localhost:8080/"
        },
        "id": "g4cyu4bSXvZ-",
        "outputId": "104fea08-6e9a-461e-a385-f19efd1f62b8"
      },
      "source": [
        "from sklearn.ensemble import RandomForestClassifier\n",
        "\n",
        "# create an instance of the Random Forest classifier\n",
        "rf1 = RandomForestClassifier(random_state = 0, n_jobs=-1)\n",
        "\n",
        "# train the classifier\n",
        "rf1.fit(X_train, y_train)\n",
        "\n",
        "print(\"Random Forest 1 training accuracy: {:.4f}\".format(rf1.score(X_train, y_train)))\n",
        "print(\"Random Forest 1 validation accuracy: {:.4f}\".format(rf1.score(X_val, y_val)))"
      ],
      "execution_count": null,
      "outputs": [
        {
          "output_type": "stream",
          "text": [
            "Random Forest 1 training accuracy: 1.0000\n",
            "Random Forest 1 validation accuracy: 0.8833\n"
          ],
          "name": "stdout"
        }
      ]
    },
    {
      "cell_type": "markdown",
      "metadata": {
        "id": "OXYXgo9UfYZY"
      },
      "source": [
        "- It also appears that the Random forest model overfits similarly to the Decision tree, though the rate of overfitting is small compared to that of Decision tree. Hence, we can also adjust some of the hyperparameters to curb the rate of overfitting of the model."
      ]
    },
    {
      "cell_type": "markdown",
      "metadata": {
        "id": "ZRJQVm2TgPad"
      },
      "source": [
        "#### Precision and Recall for the first Random Forest model"
      ]
    },
    {
      "cell_type": "code",
      "metadata": {
        "colab": {
          "base_uri": "https://localhost:8080/"
        },
        "id": "CdEnfRCXfNwT",
        "outputId": "80923a92-45a4-4f0e-d32d-3d19ba82905b"
      },
      "source": [
        "# First, we make a prediction on the test data \n",
        "rf1_pred = rf1.predict(X_test)\n",
        "\n",
        "# calculate the precision and recall scores\n",
        "rf1_precision = precision_score(y_test, rf1_pred)\n",
        "rf1_recall = recall_score(y_test, rf1_pred)\n",
        "rf1_f_score = f1_score(y_test, rf1_pred)\n",
        "\n",
        "print(\"Random Forest 1 Precision score: {:.4f}\".format(rf1_precision))\n",
        "print(\"Random Forest 1 Recall score: {:.4f}\".format(rf1_recall))\n",
        "print(\"Random Forest 1 F score: {:.4f}\".format(rf1_f_score))"
      ],
      "execution_count": null,
      "outputs": [
        {
          "output_type": "stream",
          "text": [
            "Random Forest 1 Precision score: 0.5492\n",
            "Random Forest 1 Recall score: 0.1364\n",
            "Random Forest 1 F score: 0.2185\n"
          ],
          "name": "stdout"
        }
      ]
    },
    {
      "cell_type": "markdown",
      "metadata": {
        "id": "06qPR6uuhIar"
      },
      "source": [
        "- Here, we see that the random forest model with the default hyperparameter values produces a precision of about 54% and recall of about 13%. Also, the F score is about 21%."
      ]
    },
    {
      "cell_type": "markdown",
      "metadata": {
        "id": "ybiHPrPeVS7o"
      },
      "source": [
        "- Similarly, to our Decision tree, we specify a max_depth of 4 to consider tree with a depth of 4 and n_estimators of 300, which stands for the number of trees in the forest we considered. Generally, Random Forest performs better with higher number of trees and low depth."
      ]
    },
    {
      "cell_type": "code",
      "metadata": {
        "colab": {
          "base_uri": "https://localhost:8080/"
        },
        "id": "iQDV0Syak_Ny",
        "outputId": "eec83b1f-fc66-47b6-b054-9931a1280cff"
      },
      "source": [
        "# create an instance of the Random Forest classifier\n",
        "rf2 = RandomForestClassifier(random_state = 0, n_jobs=-1, n_estimators = 300, max_depth=4)\n",
        "\n",
        "# train the classifier\n",
        "rf2.fit(X_train, y_train)\n",
        "\n",
        "print(\"Random Forest 2 training accuracy: {:.4f}\".format(rf2.score(X_train, y_train)))\n",
        "print(\"Random Forest 2 validation accuracy: {:.4f}\".format(rf2.score(X_val, y_val)))"
      ],
      "execution_count": null,
      "outputs": [
        {
          "output_type": "stream",
          "text": [
            "Random Forest 2 training accuracy: 0.8839\n",
            "Random Forest 2 validation accuracy: 0.8801\n"
          ],
          "name": "stdout"
        }
      ]
    },
    {
      "cell_type": "markdown",
      "metadata": {
        "id": "VLqQXDOVmLPe"
      },
      "source": [
        "- It appears that the overfitting problem is resolved. However, the validation accuracy of the second random forest model with max_depth of 4 is lower compared to the one with the default hyperparameters."
      ]
    },
    {
      "cell_type": "markdown",
      "metadata": {
        "id": "aiM9enB2u6nn"
      },
      "source": [
        "#### Identifying important features in Random Forest\n",
        "- Tree-based models have a way to select the features that are important to the model built. "
      ]
    },
    {
      "cell_type": "code",
      "metadata": {
        "id": "6sdpYqlHrbQV"
      },
      "source": [
        "# calculate the rate of importance for each of the features in the model\n",
        "importances = rf1.feature_importances_\n",
        "\n",
        "# sort the feature importances in descending order\n",
        "indices = np.argsort(importances)[::-1]\n",
        "\n",
        "# Rearrange feature names so they match the sorted feature importances\n",
        "names = [features.columns[i] for i in indices]"
      ],
      "execution_count": null,
      "outputs": []
    },
    {
      "cell_type": "code",
      "metadata": {
        "colab": {
          "base_uri": "https://localhost:8080/",
          "height": 479
        },
        "id": "0guLbD09we4M",
        "outputId": "5379c4d9-383b-4230-ef48-cfae39634d79"
      },
      "source": [
        "# Create plot\n",
        "plt.figure(figsize = (8, 5))\n",
        "# Create plot title\n",
        "plt.title(\"Feature Importance\") # Add bars\n",
        "plt.bar(range(features.shape[1]), importances[indices]) # Add feature names as x-axis labels\n",
        "plt.xticks(range(features.shape[1]), names, rotation=90) \n",
        "# Show plot\n",
        "plt.show()"
      ],
      "execution_count": null,
      "outputs": [
        {
          "output_type": "display_data",
          "data": {
            "image/png": "[encoded data removed]",
            "text/plain": [
              "<Figure size 576x360 with 1 Axes>"
            ]
          },
          "metadata": {
            "tags": [],
            "needs_background": "light"
          }
        }
      ]
    },
    {
      "cell_type": "markdown",
      "metadata": {
        "id": "2JQT-C5n--l9"
      },
      "source": [
        "- Based on the feature importance plot above, it appears that the most importance features considered by the random forest model are balance, age, and day the customers were contacted. \n",
        "- The limitation here is that, in scikit-learn, for nominal categorical variables that have been split into multiple binary variables, the importances gets spread over the binary variables such that it appears that features are less important even though the original nominal variable is more important."
      ]
    },
    {
      "cell_type": "markdown",
      "metadata": {
        "id": "6AfI5vdzB4rF"
      },
      "source": [
        "#### Feature Selection\n",
        "- Here, we want to select some features with importance greater than some threshold value, and then re-build the original model with these new features to see if there will be any improvement. The benefit of this approach is that, the featureimportances get diluted for the nominal categorical variables."
      ]
    },
    {
      "cell_type": "code",
      "metadata": {
        "id": "zGbbkFXZx1iL"
      },
      "source": [
        "from sklearn.feature_selection import SelectFromModel\n",
        "# Create random forest classifier\n",
        "randomforest = RandomForestClassifier(random_state=0, n_jobs=-1, max_depth = 4)\n",
        "\n",
        "# Create object that selects features with importance greater # than or equal to a threshold\n",
        "selector = SelectFromModel(randomforest, threshold=0.05)\n",
        "    \n",
        "# Feature new feature matrix using selector\n",
        "features_important = selector.fit_transform(X_train, y_train) # Train random forest using most important featres\n",
        "\n",
        "rf_model = randomforest.fit(features_important, y_train)"
      ],
      "execution_count": null,
      "outputs": []
    },
    {
      "cell_type": "code",
      "metadata": {
        "colab": {
          "base_uri": "https://localhost:8080/"
        },
        "id": "NUNYOiksFk2R",
        "outputId": "0d3b28d5-e16e-4d94-8ed2-636fa6647eb7"
      },
      "source": [
        "# transform the validation set to select the important features\n",
        "val_features = selector.transform(X_val)\n",
        "\n",
        "print(\"Random forest training accuracy with features selected: {:.4f}\".format(rf_model.score(features_important, \n",
        "                                                                                             y_train)))\n",
        "print(\"Random forest validation accuracy with features selected: {:.4f}\".format(rf_model.score(val_features, \n",
        "                                                                                               y_val)))"
      ],
      "execution_count": null,
      "outputs": [
        {
          "output_type": "stream",
          "text": [
            "Random forest training accuracy with features selected: 0.8842\n",
            "Random forest validation accuracy with features selected: 0.8800\n"
          ],
          "name": "stdout"
        }
      ]
    },
    {
      "cell_type": "markdown",
      "metadata": {
        "id": "yGHadMO3HnZw"
      },
      "source": [
        "- Here, we set the threshold to 0.05, which implies that only 5 features are included in the random forest model, and the validation accuracy is equal to the one with all of the features included. Hence, I would say, the simpler model (rf_model) is preferable as it is more interpretable compared to previous model with all of the features."
      ]
    },
    {
      "cell_type": "markdown",
      "metadata": {
        "id": "ZeLXNEIoLlFV"
      },
      "source": [
        "#### Boosting (AdaBoost)\n",
        "- Boosting works by iteratively training a series of weak decision trees, sometimes called stumps, with higher priority given to the incorrect observations the previous model predicted incorrectly."
      ]
    },
    {
      "cell_type": "code",
      "metadata": {
        "colab": {
          "base_uri": "https://localhost:8080/"
        },
        "id": "0KlaG1N4FZzR",
        "outputId": "f42fc2fb-c15a-4373-b695-42ee994be43b"
      },
      "source": [
        "from sklearn.ensemble import AdaBoostClassifier\n",
        "\n",
        "# create an instance of the AdaBoost classifier\n",
        "adaboost1 = AdaBoostClassifier(random_state = 0)\n",
        "\n",
        "# train the model\n",
        "adaboost1.fit(X_train, y_train)\n",
        "\n",
        "print(\"Adaboost 1 training accuracy: {:.4f}\".format(adaboost1.score(X_train, y_train)))\n",
        "print(\"Adaboost 1 validation accuracy: {:.4f}\".format(adaboost1.score(X_val, y_val)))"
      ],
      "execution_count": null,
      "outputs": [
        {
          "output_type": "stream",
          "text": [
            "Adaboost 1 training accuracy: 0.8845\n",
            "Adaboost 1 validation accuracy: 0.8837\n"
          ],
          "name": "stdout"
        }
      ]
    },
    {
      "cell_type": "markdown",
      "metadata": {
        "id": "3eCAgm2zNsPI"
      },
      "source": [
        "#### Precision and Accuracy of the first Adaboost model"
      ]
    },
    {
      "cell_type": "code",
      "metadata": {
        "colab": {
          "base_uri": "https://localhost:8080/"
        },
        "id": "7oFnNPugPfdo",
        "outputId": "14312c7b-6b34-423e-abc9-89e1ee489fee"
      },
      "source": [
        "# First, we make a prediction on the test data \n",
        "adaboost1_pred = adaboost1.predict(X_test)\n",
        "\n",
        "# calculate the precision and recall scores\n",
        "adaboost1_precision = precision_score(y_test, adaboost1_pred)\n",
        "adaboost1_recall = recall_score(y_test, adaboost1_pred)\n",
        "adaboost1_f_score = f1_score(y_test, adaboost1_pred)\n",
        "\n",
        "print(\"Adaboost 1 Precision score: {:.4f}\".format(adaboost1_precision))\n",
        "print(\"Adaboost 1 Recall score: {:.4f}\".format(adaboost1_recall))\n",
        "print(\"Adaboost 1 F score: {:.4f}\".format(adaboost1_f_score))"
      ],
      "execution_count": null,
      "outputs": [
        {
          "output_type": "stream",
          "text": [
            "Adaboost 1 Precision score: 0.5430\n",
            "Adaboost 1 Recall score: 0.1129\n",
            "Adaboost 1 F score: 0.1869\n"
          ],
          "name": "stdout"
        }
      ]
    },
    {
      "cell_type": "markdown",
      "metadata": {
        "id": "34rZu-hUQ_s-"
      },
      "source": [
        "- We see that the precision of Adaboost model is about 54% while the recall is about 11%. Also, the F score is about 18%."
      ]
    },
    {
      "cell_type": "code",
      "metadata": {
        "colab": {
          "base_uri": "https://localhost:8080/"
        },
        "id": "vM46LOZtQNjE",
        "outputId": "87f6cf4b-a85a-4778-ea1a-9620a90c87ad"
      },
      "source": [
        "adaboost1"
      ],
      "execution_count": null,
      "outputs": [
        {
          "output_type": "execute_result",
          "data": {
            "text/plain": [
              "AdaBoostClassifier(algorithm='SAMME.R', base_estimator=None, learning_rate=1.0,\n",
              "                   n_estimators=50, random_state=0)"
            ]
          },
          "metadata": {
            "tags": []
          },
          "execution_count": 88
        }
      ]
    },
    {
      "cell_type": "markdown",
      "metadata": {
        "id": "gsI4f2NTSDpT"
      },
      "source": [
        "- Here, we increased the number of trees used in building the model to 150 instead of the default number of 50 to see if this will have any effect on the model."
      ]
    },
    {
      "cell_type": "code",
      "metadata": {
        "colab": {
          "base_uri": "https://localhost:8080/"
        },
        "id": "___b8NXWQL62",
        "outputId": "2c8bb431-2d26-4207-a0db-87d2b3cbe0e6"
      },
      "source": [
        "# create an instance of the AdaBoost classifier\n",
        "adaboost2 = AdaBoostClassifier(random_state = 0, n_estimators= 150)\n",
        "\n",
        "# train the model\n",
        "adaboost2.fit(X_train, y_train)\n",
        "\n",
        "print(\"Adaboost 2 training accuracy: {:.4f}\".format(adaboost2.score(X_train, y_train)))\n",
        "print(\"Adaboost 2 validation accuracy: {:.4f}\".format(adaboost2.score(X_val, y_val)))"
      ],
      "execution_count": null,
      "outputs": [
        {
          "output_type": "stream",
          "text": [
            "Adaboost 2 training accuracy: 0.8853\n",
            "Adaboost 2 validation accuracy: 0.8831\n"
          ],
          "name": "stdout"
        }
      ]
    },
    {
      "cell_type": "markdown",
      "metadata": {
        "id": "X26YD_Qi24LH"
      },
      "source": [
        "- After, increasing the number of trees to 150, the validation accuracy decreased a little bit compared to the model with the default number of trees."
      ]
    },
    {
      "cell_type": "code",
      "metadata": {
        "colab": {
          "base_uri": "https://localhost:8080/"
        },
        "id": "yonLdTGeImF1",
        "outputId": "7254af0d-4f88-403d-e9c4-fd9b48a8d3c4"
      },
      "source": [
        "# First, we make a prediction on the test data \n",
        "adaboost2_pred = adaboost2.predict(X_test)\n",
        "\n",
        "# calculate the precision and recall scores\n",
        "adaboost2_precision = precision_score(y_test, adaboost2_pred)\n",
        "adaboost2_recall = recall_score(y_test, adaboost2_pred)\n",
        "adaboost2_f_score = f1_score(y_test, adaboost2_pred)\n",
        "\n",
        "print(\"Adaboost 2 Precision score: {:.4f}\".format(adaboost2_precision))\n",
        "print(\"Adaboost 2 Recall score: {:.4f}\".format(adaboost2_recall))\n",
        "print(\"Adaboost 2 F score: {:.4f}\".format(adaboost2_f_score))"
      ],
      "execution_count": null,
      "outputs": [
        {
          "output_type": "stream",
          "text": [
            "Adaboost 2 Precision score: 0.5340\n",
            "Adaboost 2 Recall score: 0.1035\n",
            "Adaboost 2 F score: 0.1734\n"
          ],
          "name": "stdout"
        }
      ]
    },
    {
      "cell_type": "markdown",
      "metadata": {
        "id": "I212Rmy0SBdv"
      },
      "source": [
        "### Support Vector Machine\n",
        "- Support Vector Machine or simply SVM classify data by finding the best hyperplane or decision boundary that maximizes the margin between the classes in the training dataset. \n",
        "- The Linear SVC tries to find a linear hyperplane to separate the classes in the training data. However, for complex data where the classes are inseparable, the Linear SVC may not be able to find the hyperplane that will maximize the margin between the class and also minimize the misclassification error on the training data. In such case, we can opt for the SVC with kernel such as rbf (radial-basis function)."
      ]
    },
    {
      "cell_type": "code",
      "metadata": {
        "colab": {
          "base_uri": "https://localhost:8080/"
        },
        "id": "stnUHShg0T8r",
        "outputId": "258fb42c-a195-4386-b617-8c87cd314db0"
      },
      "source": [
        "from sklearn.svm import SVC, LinearSVC\n",
        "\n",
        "# create instances of the linear SVC and SVC classifiers\n",
        "linear_svc = LinearSVC(random_state = 0)\n",
        "svc = SVC(random_state = 0, kernel = 'rbf')\n",
        "\n",
        "# train both models\n",
        "linear_svc.fit(X_train_scaled, y_train)\n",
        "svc.fit(X_train_scaled, y_train)\n",
        "\n",
        "print(\"Linear_SVC test accuracy: {:.4f}\".format(linear_svc.score(X_val_scaled, y_val)))\n",
        "print(\"SVC test accuracy: {:.4f}\".format(svc.score(X_val_scaled, y_val)))"
      ],
      "execution_count": null,
      "outputs": [
        {
          "output_type": "stream",
          "text": [
            "/usr/local/lib/python3.7/dist-packages/sklearn/svm/_base.py:947: ConvergenceWarning: Liblinear failed to converge, increase the number of iterations.\n",
            "  \"the number of iterations.\", ConvergenceWarning)\n"
          ],
          "name": "stderr"
        },
        {
          "output_type": "stream",
          "text": [
            "Linear_SVC test accuracy: 0.8825\n",
            "SVC test accuracy: 0.8839\n"
          ],
          "name": "stdout"
        }
      ]
    },
    {
      "cell_type": "markdown",
      "metadata": {
        "id": "mnhEVgevb-Yh"
      },
      "source": [
        "- Here, we see that the SVM with rbf kernel performs slightly more than that with linear kernel."
      ]
    },
    {
      "cell_type": "markdown",
      "metadata": {
        "id": "c8qvwxoFSzz8"
      },
      "source": [
        "# Handling Imbalance data\n",
        "- One way to solve the problem of imbalance data is to oversample the examples in the minority class. This can be achieved by simply duplicating examples from the minority class in the training dataset prior to fitting a model. This can balance the class distribution but does not provide any additional information to the model.\n",
        "\n",
        "- Here, we will use the Synthetic Minority Over-Sampling Technique (SMOTE) to balance the data. SMOTE works by selecting examples that are close in the feature space, drawing a line between the examples in the feature space and drawing a new sample at a point along that line.\n",
        "\n",
        "- The goal here, is to balance the data and then re-build those models we have built before, and finally compare the performances of these models.\n",
        "\n"
      ]
    },
    {
      "cell_type": "code",
      "metadata": {
        "colab": {
          "base_uri": "https://localhost:8080/"
        },
        "id": "WGxE7v8qe4eZ",
        "outputId": "a79b4939-1155-4181-b968-4ac88e703ab4"
      },
      "source": [
        "# import library\n",
        "from collections import Counter\n",
        "import imblearn\n",
        "from imblearn.over_sampling import SMOTE\n",
        "\n",
        "\n",
        "smote = SMOTE()\n",
        "\n",
        "# fit predictor and target variable\n",
        "features_smote, target_smote = smote.fit_resample(features, target)\n",
        "print(\"Original target shape: {}\".format(Counter(target)))\n",
        "print(\"Resampled target shape: {}\".format(Counter(target_smote)))"
      ],
      "execution_count": null,
      "outputs": [
        {
          "output_type": "stream",
          "text": [
            "/usr/local/lib/python3.7/dist-packages/sklearn/utils/deprecation.py:87: FutureWarning: Function safe_indexing is deprecated; safe_indexing is deprecated in version 0.22 and will be removed in version 0.24.\n",
            "  warnings.warn(msg, category=FutureWarning)\n"
          ],
          "name": "stderr"
        },
        {
          "output_type": "stream",
          "text": [
            "Original target shape: Counter({0: 39922, 1: 5289})\n",
            "Resampled target shape: Counter({0: 39922, 1: 39922})\n"
          ],
          "name": "stdout"
        }
      ]
    },
    {
      "cell_type": "code",
      "metadata": {
        "colab": {
          "base_uri": "https://localhost:8080/"
        },
        "id": "eZ6sDC2OhkfE",
        "outputId": "b9bcde0c-238e-4e07-d56d-baf6fa6f226c"
      },
      "source": [
        "len(features_smote)"
      ],
      "execution_count": null,
      "outputs": [
        {
          "output_type": "execute_result",
          "data": {
            "text/plain": [
              "79844"
            ]
          },
          "metadata": {
            "tags": []
          },
          "execution_count": 41
        }
      ]
    },
    {
      "cell_type": "markdown",
      "metadata": {
        "id": "f95Li0L3mP4T"
      },
      "source": [
        "## Data preparation\n",
        "- Here, we split the data into training, validation, and test data. \n",
        "- We would also scale the data to as before using the StandardScaler module."
      ]
    },
    {
      "cell_type": "code",
      "metadata": {
        "id": "1meGInxIhm92"
      },
      "source": [
        "# split the data into training, validation, and test sets\n",
        "from sklearn.model_selection import train_test_split\n",
        "\n",
        "# split the data into training_val and test set\n",
        "X_train_val, X_test, y_train_val, y_test = train_test_split(features_smote, target_smote, test_size = 0.2, \n",
        "                                                            random_state = 0)\n",
        "\n",
        "# split the training_val into training and validation\n",
        "X_train, X_val, y_train, y_val = train_test_split(X_train_val, y_train_val, test_size = 0.2, random_state = 0)\n"
      ],
      "execution_count": null,
      "outputs": []
    },
    {
      "cell_type": "code",
      "metadata": {
        "id": "_5dGsHQontND"
      },
      "source": [
        "# load the standard scaler module\n",
        "from sklearn.preprocessing import StandardScaler\n",
        "\n",
        "# create an instance of the scaler\n",
        "scaler = StandardScaler()\n",
        "\n",
        "# scaler the training, validation and test set\n",
        "X_train_scaled = scaler.fit_transform(X_train)\n",
        "X_val_scaled = scaler.transform(X_val)\n",
        "X_test_scaled = scaler.transform(X_test)"
      ],
      "execution_count": null,
      "outputs": []
    },
    {
      "cell_type": "markdown",
      "metadata": {
        "id": "oMeIMzfDn1um"
      },
      "source": [
        "## Model Re-building \n",
        "- As mentioned above, we would consider the already built models such as KNN, Logistic regression, Tree-based models, and SVM with the balanced data."
      ]
    },
    {
      "cell_type": "markdown",
      "metadata": {
        "id": "sze_mGUioYrC"
      },
      "source": [
        "### K-Nearest Neighbors (KNN)"
      ]
    },
    {
      "cell_type": "code",
      "metadata": {
        "colab": {
          "base_uri": "https://localhost:8080/"
        },
        "id": "u4VaXYYYoXCW",
        "outputId": "5cf093af-e23f-464a-c2bb-8c3e65d252f3"
      },
      "source": [
        "from sklearn.neighbors import KNeighborsClassifier\n",
        "# create an instance of the classifier\n",
        "knn_balanced = KNeighborsClassifier()  # using the default number of neighbors (5)\n",
        "\n",
        "# build the model\n",
        "knn_balanced.fit(X_train_scaled, y_train)\n",
        "\n",
        "# check the accuracy measure on the training and validation set\n",
        "print(\"Training Accuracy: {:.4f}\".format(knn_balanced.score(X_train_scaled, y_train)))\n",
        "print(\"Validation Accuracy: {:.4f}\".format(knn_balanced.score(X_val_scaled, y_val)))"
      ],
      "execution_count": null,
      "outputs": [
        {
          "output_type": "stream",
          "text": [
            "Training Accuracy: 0.9251\n",
            "Validation Accuracy: 0.9034\n"
          ],
          "name": "stdout"
        }
      ]
    },
    {
      "cell_type": "markdown",
      "metadata": {
        "id": "AmpFA38Mrzk6"
      },
      "source": [
        "- It appears that the performance of the KNN model improves over both the training and validation sets for the balanced data."
      ]
    },
    {
      "cell_type": "markdown",
      "metadata": {
        "id": "-cEDU83TqUGE"
      },
      "source": [
        "#### Precision and Recall of the new KNN model"
      ]
    },
    {
      "cell_type": "code",
      "metadata": {
        "colab": {
          "base_uri": "https://localhost:8080/"
        },
        "id": "akCM-YpdpM3-",
        "outputId": "85bd3507-e8e6-47b0-bbc3-7e802dabac94"
      },
      "source": [
        "from sklearn.metrics import precision_score, recall_score, f1_score\n",
        "\n",
        "# make prediction\n",
        "knn_balanced_pred = knn_balanced.predict(X_test_scaled)\n",
        "# calculate the precision and recall scores\n",
        "knn_balanced_precision = precision_score(y_test, knn_balanced_pred)\n",
        "knn_balanced_recall = recall_score(y_test, knn_balanced_pred)\n",
        "knn_balanced_fscore = f1_score(y_test, knn_balanced_pred)\n",
        "\n",
        "print(\"KNN balance Precision score: {:.4f}\".format(knn_balanced_precision))\n",
        "print(\"KNN balance Recall score: {:.4f}\".format(knn_balanced_recall))\n",
        "print(\"KNN balance F score: {:.4f}\".format(knn_balanced_fscore))"
      ],
      "execution_count": null,
      "outputs": [
        {
          "output_type": "stream",
          "text": [
            "KNN balance Precision score: 0.9202\n",
            "KNN balance Recall score: 0.8824\n",
            "KNN balance F score: 0.9009\n"
          ],
          "name": "stdout"
        }
      ]
    },
    {
      "cell_type": "markdown",
      "metadata": {
        "id": "EeSqU_xOs3wY"
      },
      "source": [
        "- Here, we have a precision of 92%, recall of 88.2% and an F score of 90.1%. This is a great improvement over the original KNN models."
      ]
    },
    {
      "cell_type": "markdown",
      "metadata": {
        "id": "GqPLRlnhtnlm"
      },
      "source": [
        "### Logistic Regression"
      ]
    },
    {
      "cell_type": "code",
      "metadata": {
        "colab": {
          "base_uri": "https://localhost:8080/"
        },
        "id": "81MBHhmessOr",
        "outputId": "d8f36970-7ca1-493c-b9de-82c8e02aace0"
      },
      "source": [
        "from sklearn.linear_model import LogisticRegression\n",
        "\n",
        "# create an instance of the Logistic regression model\n",
        "logreg_balanced = LogisticRegression(random_state=0)\n",
        "\n",
        "# fit the logistic regression on the training and validation sets\n",
        "logreg_balanced.fit(X_train_scaled, y_train)\n",
        "\n",
        "print(\"Logistic training accuracy: {:.4f}\".format(logreg_balanced.score(X_train_scaled, y_train)))\n",
        "print(\"Logistic validation accuracy: {:.4f}\".format(logreg_balanced.score(X_val_scaled, y_val)))"
      ],
      "execution_count": null,
      "outputs": [
        {
          "output_type": "stream",
          "text": [
            "Logistic training accuracy: 0.8927\n",
            "Logistic validation accuracy: 0.8901\n"
          ],
          "name": "stdout"
        }
      ]
    },
    {
      "cell_type": "markdown",
      "metadata": {
        "id": "NTo4IDbdtvHx"
      },
      "source": [
        "- Similarly, the Logistic regression model for the balanced data still performs better compared to the one with imbalanced data problem."
      ]
    },
    {
      "cell_type": "markdown",
      "metadata": {
        "id": "y8ushiU4uQJW"
      },
      "source": [
        "#### Precision and Recall of the new Logistic regression model"
      ]
    },
    {
      "cell_type": "code",
      "metadata": {
        "colab": {
          "base_uri": "https://localhost:8080/"
        },
        "id": "xfrqqOHguIGV",
        "outputId": "afafb364-aff9-41f4-cf5a-3809b9664075"
      },
      "source": [
        "# First, we make a prediction on the test data \n",
        "logreg_balanced_pred = logreg_balanced.predict(X_test_scaled)\n",
        "\n",
        "# calculate the precision and recall scores\n",
        "logreg_balanced_precision = precision_score(y_test, logreg_balanced_pred)\n",
        "logreg_balanced_recall = recall_score(y_test, logreg_balanced_pred)\n",
        "logreg_balanced_fscore = f1_score(y_test, logreg_balanced_pred)\n",
        "\n",
        "print(\"Logistic balance Precision score: {:.4f}\".format(logreg_balanced_precision))\n",
        "print(\"Logistic balance Recall score: {:.4f}\".format(logreg_balanced_recall))\n",
        "print(\"Logistic balance F score: {:.4f}\".format(logreg_balanced_fscore))"
      ],
      "execution_count": null,
      "outputs": [
        {
          "output_type": "stream",
          "text": [
            "Logistic balance Precision score: 0.9122\n",
            "Logistic balance Recall score: 0.8687\n",
            "Logistic balance F score: 0.8899\n"
          ],
          "name": "stdout"
        }
      ]
    },
    {
      "cell_type": "markdown",
      "metadata": {
        "id": "ZjnCvgs0u5ix"
      },
      "source": [
        "- Similarly, we have a precision of 91.2%, recall 86.9%, and an F score of 89.0%."
      ]
    },
    {
      "cell_type": "markdown",
      "metadata": {
        "id": "hjgPsrLNvpXy"
      },
      "source": [
        "### Decision Tree"
      ]
    },
    {
      "cell_type": "code",
      "metadata": {
        "colab": {
          "base_uri": "https://localhost:8080/"
        },
        "id": "IS_-nFdhvVw1",
        "outputId": "580e4685-1bf3-41cb-87dd-03c13aaa44d9"
      },
      "source": [
        "from sklearn.tree import DecisionTreeClassifier\n",
        "\n",
        "# create an instance of the classifier\n",
        "tree_balanced = DecisionTreeClassifier(random_state = 0, max_depth=10)\n",
        "\n",
        "# fit the logistic regression on the training and validation sets\n",
        "tree_balanced.fit(X_train, y_train)\n",
        "\n",
        "print(\"Decision tree balance training accuracy: {:.4f}\".format(tree_balanced.score(X_train, y_train)))\n",
        "print(\"Decision tree balance validation accuracy: {:.4f}\".format(tree_balanced.score(X_val, y_val)))"
      ],
      "execution_count": null,
      "outputs": [
        {
          "output_type": "stream",
          "text": [
            "Decision tree balance training accuracy: 0.8999\n",
            "Decision tree balance validation accuracy: 0.8800\n"
          ],
          "name": "stdout"
        }
      ]
    },
    {
      "cell_type": "markdown",
      "metadata": {
        "id": "SeiHH-cQwb7m"
      },
      "source": [
        "- Here, there is no much difference in the accuracies of the new decision tree model with balanced data compared to that of imbalanced data."
      ]
    },
    {
      "cell_type": "markdown",
      "metadata": {
        "id": "mp8vCG6ew1YO"
      },
      "source": [
        "#### Precision and Recall of the new Decision tree model"
      ]
    },
    {
      "cell_type": "code",
      "metadata": {
        "colab": {
          "base_uri": "https://localhost:8080/"
        },
        "id": "xe0Q02Tswsh-",
        "outputId": "d38b09f0-4252-46ff-9896-6eeb035fb695"
      },
      "source": [
        "tree_balanced_pred = tree_balanced.predict(X_test)\n",
        "\n",
        "# calculate the precision and recall scores\n",
        "tree_balanced_precision = precision_score(y_test, tree_balanced_pred)\n",
        "tree_balanced_recall = recall_score(y_test, tree_balanced_pred)\n",
        "tree_balanced_fscore = f1_score(y_test, tree_balanced_pred)\n",
        "\n",
        "print(\"Decision tree balance Precision score: {:.4f}\".format(tree_balanced_precision))\n",
        "print(\"Decision tree balance Recall score: {:.4f}\".format(tree_balanced_recall))\n",
        "print(\"Decision tree balance F score: {:.4f}\".format(tree_balanced_fscore))"
      ],
      "execution_count": null,
      "outputs": [
        {
          "output_type": "stream",
          "text": [
            "Decision tree balance Precision score: 0.8926\n",
            "Decision tree balance Recall score: 0.8666\n",
            "Decision tree balance F score: 0.8794\n"
          ],
          "name": "stdout"
        }
      ]
    },
    {
      "cell_type": "markdown",
      "metadata": {
        "id": "M6ps6fvty0b2"
      },
      "source": [
        "- Here, we have a precision of 89.3%, recall of 86.7%, and an F score of 87.9%."
      ]
    },
    {
      "cell_type": "markdown",
      "metadata": {
        "id": "dajs652czH0X"
      },
      "source": [
        "### Random Forest\n"
      ]
    },
    {
      "cell_type": "code",
      "metadata": {
        "colab": {
          "base_uri": "https://localhost:8080/"
        },
        "id": "ogB54FsqzLqu",
        "outputId": "d9d19c53-4499-4d69-feb1-1cedb5a61f6e"
      },
      "source": [
        "from sklearn.ensemble import RandomForestClassifier\n",
        "\n",
        "rf_balanced = RandomForestClassifier(random_state = 0, n_jobs=-1, n_estimators = 300, max_depth=4)\n",
        "\n",
        "# train the classifier\n",
        "rf_balanced.fit(X_train, y_train)\n",
        "\n",
        "print(\"Random Forest balance training accuracy: {:.4f}\".format(rf_balanced.score(X_train, y_train)))\n",
        "print(\"Random Forest balance validation accuracy: {:.4f}\".format(rf_balanced.score(X_val, y_val)))"
      ],
      "execution_count": null,
      "outputs": [
        {
          "output_type": "stream",
          "text": [
            "Random Forest balance training accuracy: 0.8328\n",
            "Random Forest balance validation accuracy: 0.8304\n"
          ],
          "name": "stdout"
        }
      ]
    },
    {
      "cell_type": "markdown",
      "metadata": {
        "id": "Y2GkHdvYz6by"
      },
      "source": [
        "- Similarly to the Decision tree model, there is no improvement in the accuracy of the Random Forest model on the balanced data."
      ]
    },
    {
      "cell_type": "markdown",
      "metadata": {
        "id": "Tus7QNat0GYx"
      },
      "source": [
        "#### Precision and Recall of the new Random Forest model"
      ]
    },
    {
      "cell_type": "code",
      "metadata": {
        "colab": {
          "base_uri": "https://localhost:8080/"
        },
        "id": "olBVIvkV0FZb",
        "outputId": "2cfc7c9d-627d-4ded-e7e6-6708f14e133f"
      },
      "source": [
        "# First, we make a prediction on the test data \n",
        "rf_balanced_pred = rf_balanced.predict(X_test)\n",
        "\n",
        "# calculate the precision and recall scores\n",
        "rf_balanced_precision = precision_score(y_test, rf_balanced_pred)\n",
        "rf_balanced_recall = recall_score(y_test, rf_balanced_pred)\n",
        "rf_balanced_fscore = f1_score(y_test, rf_balanced_pred)\n",
        "\n",
        "print(\"Random Forest balance Precision score: {:.4f}\".format(rf_balanced_precision))\n",
        "print(\"Random Forest balance Recall score: {:.4f}\".format(rf_balanced_recall))\n",
        "print(\"Random Forest balance F score: {:.4f}\".format(rf_balanced_fscore))"
      ],
      "execution_count": null,
      "outputs": [
        {
          "output_type": "stream",
          "text": [
            "Random Forest balance Precision score: 0.8314\n",
            "Random Forest balance Recall score: 0.8422\n",
            "Random Forest balance F score: 0.8368\n"
          ],
          "name": "stdout"
        }
      ]
    },
    {
      "cell_type": "markdown",
      "metadata": {
        "id": "_N9nS3HN0yTW"
      },
      "source": [
        "- Here, we have a precision of 83%, recall of 84%, and an F score of 83.6%"
      ]
    },
    {
      "cell_type": "markdown",
      "metadata": {
        "id": "6Txw1CMD1qnn"
      },
      "source": [
        "### Adaboost"
      ]
    },
    {
      "cell_type": "code",
      "metadata": {
        "colab": {
          "base_uri": "https://localhost:8080/"
        },
        "id": "wFoOOgf31vfN",
        "outputId": "a0e1cb9e-2f77-41de-9a0a-40754181656e"
      },
      "source": [
        "from sklearn.ensemble import AdaBoostClassifier\n",
        "\n",
        "# create an instance of the AdaBoost classifier\n",
        "adaboost_balanced = AdaBoostClassifier(random_state = 0, n_estimators=150)\n",
        "\n",
        "# train the model\n",
        "adaboost_balanced.fit(X_train, y_train)\n",
        "\n",
        "print(\"Adaboost balance training accuracy: {:.4f}\".format(adaboost_balanced.score(X_train, y_train)))\n",
        "print(\"Adaboost balance validation accuracy: {:.4f}\".format(adaboost_balanced.score(X_val, y_val)))"
      ],
      "execution_count": null,
      "outputs": [
        {
          "output_type": "stream",
          "text": [
            "Adaboost balance training accuracy: 0.8957\n",
            "Adaboost balance validation accuracy: 0.8915\n"
          ],
          "name": "stdout"
        }
      ]
    },
    {
      "cell_type": "markdown",
      "metadata": {
        "id": "CfZiD79P2WCI"
      },
      "source": [
        "- Here, there is a slight improvement in the accuracy of the Adaboost model for the balanced data."
      ]
    },
    {
      "cell_type": "markdown",
      "metadata": {
        "id": "JPMSYS3q21F6"
      },
      "source": [
        "#### Precision and Recall of the new Adaboost model"
      ]
    },
    {
      "cell_type": "code",
      "metadata": {
        "colab": {
          "base_uri": "https://localhost:8080/"
        },
        "id": "x-knl81j2qyr",
        "outputId": "529af4bb-5dd6-47bf-cf5e-8d4afbeb110a"
      },
      "source": [
        "# First, we make a prediction on the test data \n",
        "adaboost_balanced_pred = adaboost_balanced.predict(X_test)\n",
        "\n",
        "# calculate the precision and recall scores\n",
        "adaboost_balanced_precision = precision_score(y_test, adaboost_balanced_pred)\n",
        "adaboost_balanced_recall = recall_score(y_test, adaboost_balanced_pred)\n",
        "adaboost_balanced_fscore = f1_score(y_test, adaboost_balanced_pred)\n",
        "\n",
        "print(\"Adaboost balance Precision score: {:.4f}\".format(adaboost_balanced_precision))\n",
        "print(\"Adaboost balance Recall score: {:.4f}\".format(adaboost_balanced_recall))\n",
        "print(\"Adaboost balance F score: {:.4f}\".format(adaboost_balanced_fscore))\n"
      ],
      "execution_count": null,
      "outputs": [
        {
          "output_type": "stream",
          "text": [
            "Adaboost balance Precision score: 0.9069\n",
            "Adaboost balance Recall score: 0.8780\n",
            "Adaboost balance F score: 0.8922\n"
          ],
          "name": "stdout"
        }
      ]
    },
    {
      "cell_type": "markdown",
      "metadata": {
        "id": "pCU8PwtF3pkN"
      },
      "source": [
        "- Here, we have a precision of 90.7%, recall of 87.8%, and an F score of 89.2%."
      ]
    },
    {
      "cell_type": "markdown",
      "metadata": {
        "id": "V2nj0l3J39Wt"
      },
      "source": [
        "### Support Vector Machine (SVM)"
      ]
    },
    {
      "cell_type": "code",
      "metadata": {
        "colab": {
          "base_uri": "https://localhost:8080/"
        },
        "id": "5MIfj7T-3zkp",
        "outputId": "f2fe0089-4c77-4f10-98a4-a24d4c780a34"
      },
      "source": [
        "from sklearn.svm import SVC, LinearSVC\n",
        "\n",
        "# create instances of the linear SVC and SVC classifiers\n",
        "linear_balanced_svc = LinearSVC(random_state = 0, max_iter=10000)\n",
        "svc_balanced = SVC(random_state = 0, kernel = 'rbf')\n",
        "\n",
        "# train both models\n",
        "linear_balanced_svc.fit(X_train_scaled, y_train)\n",
        "svc_balanced.fit(X_train_scaled, y_train)\n",
        "\n",
        "print(\"Linear_SVC balance test accuracy: {:.4f}\".format(linear_balanced_svc.score(X_val_scaled, y_val)))\n",
        "print(\"SVC balance test accuracy: {:.4f}\".format(svc_balanced.score(X_val_scaled, y_val)))"
      ],
      "execution_count": null,
      "outputs": [
        {
          "output_type": "stream",
          "text": [
            "/usr/local/lib/python3.7/dist-packages/sklearn/svm/_base.py:947: ConvergenceWarning: Liblinear failed to converge, increase the number of iterations.\n",
            "  \"the number of iterations.\", ConvergenceWarning)\n"
          ],
          "name": "stderr"
        },
        {
          "output_type": "stream",
          "text": [
            "Linear_SVC balance test accuracy: 0.8880\n",
            "SVC balance test accuracy: 0.9018\n"
          ],
          "name": "stdout"
        }
      ]
    },
    {
      "cell_type": "markdown",
      "metadata": {
        "id": "MRqAMtYOKNkk"
      },
      "source": [
        "- Finally, the accuracy of the SVM model improves slightly on the balanced data compared to that on the imbalanced data."
      ]
    },
    {
      "cell_type": "markdown",
      "metadata": {
        "id": "bUYF6OYzKft7"
      },
      "source": [
        "# Model Comparison \n",
        "- Here, we compare all the models except the SVM model using their accuracies, precision, and recall. We did not include the SVM because, it did not converge on the training data."
      ]
    },
    {
      "cell_type": "markdown",
      "metadata": {
        "id": "x5j87WqVLq1W"
      },
      "source": [
        "## Comparing models on imbalanced data"
      ]
    },
    {
      "cell_type": "code",
      "metadata": {
        "colab": {
          "base_uri": "https://localhost:8080/",
          "height": 328
        },
        "id": "Zo-27m-ZFEHr",
        "outputId": "780a0339-307e-4548-a802-a55535a8f4a9"
      },
      "source": [
        "data = {'Models': [\"Knn_1\", \"Knn_2\", \"Logreg_1\", \"Logreg_2\", \"Dec_tree1\", \"Dec_tree2\", \"RF\",\n",
        "                   \"Adaboost_1\", \"Adaboost_2\"],\n",
        "        \"Test_acc\": [87.7, 88.2, 88.3, 88.3, 81.6, 88.1, 88.3, 88.4, 88.3],\n",
        "        \"Precision\": [42.6, 44.6, 45.3, 45.3, 25.5, 45.5, 54.9, 54.3, 53.4],\n",
        "        \"Recall\": [15.9, 11.8, 5.83, 5.83, 27.6, 37.6, 13.6, 11.3, 10.4],\n",
        "        \"F-score\": [23.2, 18.6, 10.3, 10.3, 26.5, 6.95, 21.9, 18.7, 17.3]}\n",
        "model_comparison = pd.DataFrame(data = data)\n",
        "\n",
        "# display the table of performance comparison\n",
        "model_comparison"
      ],
      "execution_count": null,
      "outputs": [
        {
          "output_type": "execute_result",
          "data": {
            "text/html": [
              "<div>\n",
              "<style scoped>\n",
              "    .dataframe tbody tr th:only-of-type {\n",
              "        vertical-align: middle;\n",
              "    }\n",
              "\n",
              "    .dataframe tbody tr th {\n",
              "        vertical-align: top;\n",
              "    }\n",
              "\n",
              "    .dataframe thead th {\n",
              "        text-align: right;\n",
              "    }\n",
              "</style>\n",
              "<table border=\"1\" class=\"dataframe\">\n",
              "  <thead>\n",
              "    <tr style=\"text-align: right;\">\n",
              "      <th></th>\n",
              "      <th>Models</th>\n",
              "      <th>Test_acc</th>\n",
              "      <th>Precision</th>\n",
              "      <th>Recall</th>\n",
              "      <th>F-score</th>\n",
              "    </tr>\n",
              "  </thead>\n",
              "  <tbody>\n",
              "    <tr>\n",
              "      <th>0</th>\n",
              "      <td>Knn_1</td>\n",
              "      <td>87.7</td>\n",
              "      <td>42.6</td>\n",
              "      <td>15.90</td>\n",
              "      <td>23.20</td>\n",
              "    </tr>\n",
              "    <tr>\n",
              "      <th>1</th>\n",
              "      <td>Knn_2</td>\n",
              "      <td>88.2</td>\n",
              "      <td>44.6</td>\n",
              "      <td>11.80</td>\n",
              "      <td>18.60</td>\n",
              "    </tr>\n",
              "    <tr>\n",
              "      <th>2</th>\n",
              "      <td>Logreg_1</td>\n",
              "      <td>88.3</td>\n",
              "      <td>45.3</td>\n",
              "      <td>5.83</td>\n",
              "      <td>10.30</td>\n",
              "    </tr>\n",
              "    <tr>\n",
              "      <th>3</th>\n",
              "      <td>Logreg_2</td>\n",
              "      <td>88.3</td>\n",
              "      <td>45.3</td>\n",
              "      <td>5.83</td>\n",
              "      <td>10.30</td>\n",
              "    </tr>\n",
              "    <tr>\n",
              "      <th>4</th>\n",
              "      <td>Dec_tree1</td>\n",
              "      <td>81.6</td>\n",
              "      <td>25.5</td>\n",
              "      <td>27.60</td>\n",
              "      <td>26.50</td>\n",
              "    </tr>\n",
              "    <tr>\n",
              "      <th>5</th>\n",
              "      <td>Dec_tree2</td>\n",
              "      <td>88.1</td>\n",
              "      <td>45.5</td>\n",
              "      <td>37.60</td>\n",
              "      <td>6.95</td>\n",
              "    </tr>\n",
              "    <tr>\n",
              "      <th>6</th>\n",
              "      <td>RF</td>\n",
              "      <td>88.3</td>\n",
              "      <td>54.9</td>\n",
              "      <td>13.60</td>\n",
              "      <td>21.90</td>\n",
              "    </tr>\n",
              "    <tr>\n",
              "      <th>7</th>\n",
              "      <td>Adaboost_1</td>\n",
              "      <td>88.4</td>\n",
              "      <td>54.3</td>\n",
              "      <td>11.30</td>\n",
              "      <td>18.70</td>\n",
              "    </tr>\n",
              "    <tr>\n",
              "      <th>8</th>\n",
              "      <td>Adaboost_2</td>\n",
              "      <td>88.3</td>\n",
              "      <td>53.4</td>\n",
              "      <td>10.40</td>\n",
              "      <td>17.30</td>\n",
              "    </tr>\n",
              "  </tbody>\n",
              "</table>\n",
              "</div>"
            ],
            "text/plain": [
              "       Models  Test_acc  Precision  Recall  F-score\n",
              "0       Knn_1      87.7       42.6   15.90    23.20\n",
              "1       Knn_2      88.2       44.6   11.80    18.60\n",
              "2    Logreg_1      88.3       45.3    5.83    10.30\n",
              "3    Logreg_2      88.3       45.3    5.83    10.30\n",
              "4   Dec_tree1      81.6       25.5   27.60    26.50\n",
              "5   Dec_tree2      88.1       45.5   37.60     6.95\n",
              "6          RF      88.3       54.9   13.60    21.90\n",
              "7  Adaboost_1      88.4       54.3   11.30    18.70\n",
              "8  Adaboost_2      88.3       53.4   10.40    17.30"
            ]
          },
          "metadata": {
            "tags": []
          },
          "execution_count": 3
        }
      ]
    },
    {
      "cell_type": "markdown",
      "metadata": {
        "id": "hOItnUv3KeZE"
      },
      "source": [
        "## Comparing models on balanced data"
      ]
    },
    {
      "cell_type": "code",
      "metadata": {
        "colab": {
          "base_uri": "https://localhost:8080/",
          "height": 204
        },
        "id": "Wh0KUYwPL6sG",
        "outputId": "a3e90ab6-fb3d-4683-9658-9ebc27048ffc"
      },
      "source": [
        "import pandas as pd\n",
        "data_2 = {'Models': [\"Knn\", \"Logreg\", \"Dec_tree\", \"RF\", \"Adaboost\"],\n",
        "        \"Test_acc\": [90.3, 89.01, 88, 83.04, 89.2],\n",
        "        \"Precision\": [92, 91.2, 89.26, 83.14, 90.7],\n",
        "        \"Recall\": [88, 86.9, 86.7, 84.2, 87.8],\n",
        "        \"F-score\": [90.1, 88.99, 87.9, 83.9, 89.2]}\n",
        "model_comparison_2 = pd.DataFrame(data = data_2)\n",
        "\n",
        "# display the table of performance comparison\n",
        "model_comparison_2"
      ],
      "execution_count": null,
      "outputs": [
        {
          "output_type": "execute_result",
          "data": {
            "text/html": [
              "<div>\n",
              "<style scoped>\n",
              "    .dataframe tbody tr th:only-of-type {\n",
              "        vertical-align: middle;\n",
              "    }\n",
              "\n",
              "    .dataframe tbody tr th {\n",
              "        vertical-align: top;\n",
              "    }\n",
              "\n",
              "    .dataframe thead th {\n",
              "        text-align: right;\n",
              "    }\n",
              "</style>\n",
              "<table border=\"1\" class=\"dataframe\">\n",
              "  <thead>\n",
              "    <tr style=\"text-align: right;\">\n",
              "      <th></th>\n",
              "      <th>Models</th>\n",
              "      <th>Test_acc</th>\n",
              "      <th>Precision</th>\n",
              "      <th>Recall</th>\n",
              "      <th>F-score</th>\n",
              "    </tr>\n",
              "  </thead>\n",
              "  <tbody>\n",
              "    <tr>\n",
              "      <th>0</th>\n",
              "      <td>Knn</td>\n",
              "      <td>90.30</td>\n",
              "      <td>92.00</td>\n",
              "      <td>88.0</td>\n",
              "      <td>90.10</td>\n",
              "    </tr>\n",
              "    <tr>\n",
              "      <th>1</th>\n",
              "      <td>Logreg</td>\n",
              "      <td>89.01</td>\n",
              "      <td>91.20</td>\n",
              "      <td>86.9</td>\n",
              "      <td>88.99</td>\n",
              "    </tr>\n",
              "    <tr>\n",
              "      <th>2</th>\n",
              "      <td>Dec_tree</td>\n",
              "      <td>88.00</td>\n",
              "      <td>89.26</td>\n",
              "      <td>86.7</td>\n",
              "      <td>87.90</td>\n",
              "    </tr>\n",
              "    <tr>\n",
              "      <th>3</th>\n",
              "      <td>RF</td>\n",
              "      <td>83.04</td>\n",
              "      <td>83.14</td>\n",
              "      <td>84.2</td>\n",
              "      <td>83.90</td>\n",
              "    </tr>\n",
              "    <tr>\n",
              "      <th>4</th>\n",
              "      <td>Adaboost</td>\n",
              "      <td>89.20</td>\n",
              "      <td>90.70</td>\n",
              "      <td>87.8</td>\n",
              "      <td>89.20</td>\n",
              "    </tr>\n",
              "  </tbody>\n",
              "</table>\n",
              "</div>"
            ],
            "text/plain": [
              "     Models  Test_acc  Precision  Recall  F-score\n",
              "0       Knn     90.30      92.00    88.0    90.10\n",
              "1    Logreg     89.01      91.20    86.9    88.99\n",
              "2  Dec_tree     88.00      89.26    86.7    87.90\n",
              "3        RF     83.04      83.14    84.2    83.90\n",
              "4  Adaboost     89.20      90.70    87.8    89.20"
            ]
          },
          "metadata": {
            "tags": []
          },
          "execution_count": 2
        }
      ]
    },
    {
      "cell_type": "markdown",
      "metadata": {
        "id": "U_vmov2sNlSW"
      },
      "source": [
        "# Conclusion"
      ]
    },
    {
      "cell_type": "markdown",
      "metadata": {
        "id": "yFDpCQwpjy0L"
      },
      "source": [
        "- The goal of this project is to build a model to predict whether or not a bank customer will subscribe to a term deposit or not. In this project, we have explored different relationships between the variables in the data to further understand the data. We have also built different classification models such as Logistic regression, K-Nearest models, e.t.c., with the data unbalanced and also with the data balanced, and we showed that Machine learning model performance can be substantially improved and more reliable when the data is balanced. Also, based on the F1 scores in the table above, our best models are KNN and Adaboost with Fscores of 90.1% and 89.2% on our test data."
      ]
    },
    {
      "cell_type": "code",
      "metadata": {
        "id": "ExFDiKrBNm-B"
      },
      "source": [
        ""
      ],
      "execution_count": null,
      "outputs": []
    }
  ]
}

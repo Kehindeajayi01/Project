{
 "cells": [
  {
   "cell_type": "markdown",
   "metadata": {},
   "source": [
    "## Control Statements and Loops\n",
    "- These are series of statements that a program follows to get the desired results.\n",
    "\n",
    "### The if and if...else statement\n",
    "- These are conditional statements which are used in day-to-day applications."
   ]
  },
  {
   "cell_type": "markdown",
   "metadata": {},
   "source": [
    "## If statement"
   ]
  },
  {
   "cell_type": "code",
   "execution_count": 2,
   "metadata": {},
   "outputs": [
    {
     "name": "stdout",
     "output_type": "stream",
     "text": [
      "Enter your first name: Kenny\n",
      "Enter a password: love\n"
     ]
    }
   ],
   "source": [
    "# example: write a program to ask for a user's password and display \"Access denied\" for incorrect password\n",
    "name = input(\"Enter your first name: \")\n",
    "password = input(\"Enter a password: \")\n",
    "if password == 'MI6':\n",
    "    print(\"Welcome \", name)"
   ]
  },
  {
   "cell_type": "markdown",
   "metadata": {},
   "source": [
    "## if ...else statement"
   ]
  },
  {
   "cell_type": "code",
   "execution_count": 3,
   "metadata": {},
   "outputs": [
    {
     "name": "stdout",
     "output_type": "stream",
     "text": [
      "Enter your first name: Kenny\n",
      "Enter a password: love\n",
      "Access Denied!\n"
     ]
    }
   ],
   "source": [
    "name = input(\"Enter your first name: \")\n",
    "password = input(\"Enter a password: \")\n",
    "if password == 'MI6':\n",
    "    print(\"Welcome \", name)\n",
    "else:\n",
    "    print(\"Access Denied!\")"
   ]
  },
  {
   "attachments": {
    "if_else.PNG": {
     "image/png": "[encoded data removed]"
    }
   },
   "cell_type": "markdown",
   "metadata": {},
   "source": [
    "## if ...elif ...else statement\n",
    "- If there are a series of actions to be executed, then the if...elif...else block can be used.\n",
    "- Example:\n",
    "    ![if_else.PNG](attachment:if_else.PNG)"
   ]
  },
  {
   "cell_type": "code",
   "execution_count": 5,
   "metadata": {},
   "outputs": [
    {
     "name": "stdout",
     "output_type": "stream",
     "text": [
      "Enter a score: 2.49\n",
      "grade is: D\n"
     ]
    }
   ],
   "source": [
    "# get the score of the student\n",
    "score = float(input(\"Enter a score: \"))\n",
    "if score >= 4:\n",
    "    print(\"grade is: A\")\n",
    "\n",
    "elif score > 3 and score < 3.5:\n",
    "    print(\"grade is: B\")\n",
    "    \n",
    "elif score > 2.5 and score < 3:\n",
    "    print(\"grade is: C\")\n",
    "    \n",
    "else:\n",
    "    print(\"grade is: D\")"
   ]
  },
  {
   "cell_type": "markdown",
   "metadata": {},
   "source": [
    "## Loops\n",
    "- There might be a situation where you might require to run a single block of code a number of times, in that situation, \n",
    "loops come in handy. Loops come handy in situations such as iterating through data structures.\n",
    "\n",
    "### Types of loops\n",
    "- Definite:\n",
    "    - In this case, the code of block runs for a defined number of times. This is useful when the programmer exactly \n",
    "    knows in how many counts the task will be executed.\n",
    "    \n",
    "- Indefinite:\n",
    "    -  In this case, the code of block runs until the condition is true. This is useful where the count is unknown."
   ]
  },
  {
   "cell_type": "markdown",
   "metadata": {},
   "source": [
    "# let's discuss the \"range\" function\n",
    "- The range() function comes handy when you want to generate a list on-the-fly."
   ]
  },
  {
   "cell_type": "code",
   "execution_count": 8,
   "metadata": {},
   "outputs": [
    {
     "data": {
      "text/plain": [
       "[2, 5, 8]"
      ]
     },
     "execution_count": 8,
     "metadata": {},
     "output_type": "execute_result"
    }
   ],
   "source": [
    "# examples of range function\n",
    "list(range(10))\n",
    "\n",
    "list(range(2, 10))\n",
    "\n",
    "list(range(2, 10, 3))"
   ]
  },
  {
   "cell_type": "markdown",
   "metadata": {},
   "source": [
    "## Definite loop\n",
    "- It is a loop which is executed a set number of times. The best example that can be thought of a definite loop is a for loop."
   ]
  },
  {
   "cell_type": "code",
   "execution_count": 9,
   "metadata": {},
   "outputs": [
    {
     "name": "stdout",
     "output_type": "stream",
     "text": [
      "Hello World\n",
      "Hello World\n",
      "Hello World\n"
     ]
    }
   ],
   "source": [
    "## write a program to display \"Hello World\" 3 times\n",
    "for i in range(3):\n",
    "    print(\"Hello World\")"
   ]
  },
  {
   "cell_type": "code",
   "execution_count": 10,
   "metadata": {},
   "outputs": [
    {
     "name": "stdout",
     "output_type": "stream",
     "text": [
      "M\n",
      "a\n",
      "c\n",
      "h\n",
      "i\n",
      "n\n",
      "e\n",
      " \n",
      "L\n",
      "e\n",
      "a\n",
      "r\n",
      "n\n",
      "i\n",
      "n\n",
      "g\n"
     ]
    }
   ],
   "source": [
    "# write a program to display each character of the string \"Machine Learning\"\n",
    "str1 = \"Machine Learning\"\n",
    "for i in str1:\n",
    "    print(i)"
   ]
  },
  {
   "cell_type": "markdown",
   "metadata": {},
   "source": [
    "## Indefinite Loop\n",
    "- Indefinite loop is a loop that will continue to run infinite number of times until and unless it is asked to stop. \n",
    "- In order to execute an indefinite loop, we use the while statement.\n"
   ]
  },
  {
   "cell_type": "code",
   "execution_count": 11,
   "metadata": {},
   "outputs": [
    {
     "name": "stdout",
     "output_type": "stream",
     "text": [
      "Enter your account number: 56718\n",
      "Wrong number\n",
      "Enter the right account number: 5671814\n",
      "Wrong number\n",
      "Enter the right account number: 5678143\n",
      "Account number is  5678143\n"
     ]
    }
   ],
   "source": [
    "# example of while loop\n",
    "savings_acc = 5678143\n",
    "num = int(input(\"Enter your account number: \"))\n",
    "while num != savings_acc:\n",
    "    print(\"Wrong number\")\n",
    "    num = int(input(\"Enter the right account number: \"))\n",
    "print(\"Account number is \", num)"
   ]
  },
  {
   "cell_type": "code",
   "execution_count": 12,
   "metadata": {},
   "outputs": [
    {
     "name": "stdout",
     "output_type": "stream",
     "text": [
      "1\n",
      "3\n",
      "6\n",
      "10\n"
     ]
    }
   ],
   "source": [
    "# example 2: write a program to sum numbers 1 to 10\n",
    "sum = 0\n",
    "counter = 1\n",
    "while (counter < 5):\n",
    "    sum += counter\n",
    "    print(sum)\n",
    "    counter += 1"
   ]
  },
  {
   "cell_type": "code",
   "execution_count": 13,
   "metadata": {},
   "outputs": [
    {
     "name": "stdout",
     "output_type": "stream",
     "text": [
      "1\n",
      "3\n",
      "6\n",
      "10\n"
     ]
    }
   ],
   "source": [
    "total = 0\n",
    "for i in range(1, 5):\n",
    "    total += i\n",
    "    print(total)\n",
    "    "
   ]
  },
  {
   "cell_type": "markdown",
   "metadata": {},
   "source": [
    "## The while True and break statement\n",
    "- Execution of an infinite while loop can be broken by the use of the break statement.\n"
   ]
  },
  {
   "cell_type": "code",
   "execution_count": 14,
   "metadata": {},
   "outputs": [
    {
     "name": "stdout",
     "output_type": "stream",
     "text": [
      "Enter a number or 0 to quit: 9\n",
      "Enter a number or 0 to quit: 7\n",
      "Enter a number or 0 to quit: 10\n",
      "Enter a number or 0 to quit: 0\n",
      "Sum is  26\n"
     ]
    }
   ],
   "source": [
    "# write a program to sum numbers colllected from a user and quit when 0 is entered\n",
    "sum = 0\n",
    "while True:\n",
    "    inp = int(input(\"Enter a number or 0 to quit: \"))\n",
    "    if inp == 0:\n",
    "        break\n",
    "    sum += inp\n",
    "print(\"Sum is \", sum)"
   ]
  },
  {
   "cell_type": "code",
   "execution_count": 6,
   "metadata": {},
   "outputs": [
    {
     "name": "stdout",
     "output_type": "stream",
     "text": [
      "Enter a number or 0 to quit: 67\n",
      "Enter a number or 0 to quit: 89\n",
      "Enter a number or 0 to quit: 56\n",
      "Enter a number or 0 to quit: 0\n",
      "Sum is  212\n"
     ]
    }
   ],
   "source": [
    "# Alternative method without using the break statement\n",
    "sum = 0\n",
    "flag = 1\n",
    "while flag == 1:\n",
    "    inp = int(input(\"Enter a number or 0 to quit: \"))\n",
    "    if inp == 0:\n",
    "        flag = 0\n",
    "    sum += inp\n",
    "print(\"Sum is \", sum)"
   ]
  },
  {
   "cell_type": "markdown",
   "metadata": {},
   "source": [
    "## The break statement"
   ]
  },
  {
   "cell_type": "code",
   "execution_count": 16,
   "metadata": {},
   "outputs": [
    {
     "name": "stdout",
     "output_type": "stream",
     "text": [
      "10\n"
     ]
    }
   ],
   "source": [
    "# write a program to use the element of the 2nd list to check that of the 1st\n",
    "# the program should stop once the element of the 2nd list is in the first\n",
    "\n",
    "first = [\"ice\", 3, 5, 10, \"cream\", \"soap\", 23]\n",
    "second = [\"baby\", 10, 13, \"sugar\", \"soap\"]\n",
    "\n",
    "for i in first:\n",
    "    if i in second:\n",
    "        break\n",
    "print(i)"
   ]
  },
  {
   "cell_type": "markdown",
   "metadata": {},
   "source": [
    "## Nested Loops\n",
    "- They are loops inside loops and there could be more than two loops each within another loop. In most situations, \n",
    "we generally use the break statement to break the inner loop while the outer loop will continue to execute."
   ]
  },
  {
   "cell_type": "code",
   "execution_count": 18,
   "metadata": {},
   "outputs": [
    {
     "name": "stdout",
     "output_type": "stream",
     "text": [
      "L\n",
      "P\n",
      "a\n",
      "r\n",
      "i\n",
      "s\n",
      "N\n",
      "e\n",
      "w\n",
      " \n",
      "Y\n",
      "B\n",
      "e\n",
      "r\n",
      "l\n",
      "i\n",
      "n\n"
     ]
    }
   ],
   "source": [
    "list1 = [\"London\",\"Paris\",\"New York\",\"Berlin\"] \n",
    "for i in list1:\n",
    "    str1 = i\n",
    "    for a in str1:\n",
    "        if a == 'o':\n",
    "            break\n",
    "        print(a)"
   ]
  },
  {
   "cell_type": "code",
   "execution_count": 17,
   "metadata": {},
   "outputs": [
    {
     "name": "stdout",
     "output_type": "stream",
     "text": [
      "L\n",
      "o\n",
      "n\n",
      "d\n",
      "o\n",
      "n\n"
     ]
    }
   ],
   "source": [
    "str2 = 'London'\n",
    "for i in str2:\n",
    "    print(i)"
   ]
  },
  {
   "cell_type": "markdown",
   "metadata": {},
   "source": [
    "## The coninue and pass statement\n",
    "- movies = ['P.S I Love You', 'Shutter Island', 'Les Miserables play', \"King's Speech\", 'Forest Gump']\n",
    "- Suppose, we want the program to skip the name \"Les Miserables play\" and then print the rest of the play, then we use\n",
    "the \"continue\" statement.\n",
    "            "
   ]
  },
  {
   "cell_type": "code",
   "execution_count": 20,
   "metadata": {},
   "outputs": [
    {
     "name": "stdout",
     "output_type": "stream",
     "text": [
      "P.S I Love You\n",
      "Shutter Island\n",
      "Les Miserables play\n",
      "Forest Gump\n"
     ]
    }
   ],
   "source": [
    "movies = ['P.S I Love You', 'Shutter Island', 'Les Miserables play', \"King's Speech\", 'Forest Gump']\n",
    "for i in movies:\n",
    "    if i == \"King's Speech\":\n",
    "        continue\n",
    "    print(i)"
   ]
  },
  {
   "cell_type": "markdown",
   "metadata": {},
   "source": [
    "## The pass statement\n",
    "- There can be scenarios in various programming problems, where you might want to reserve a loop for future use.\n",
    "We may not want to write anything inside the block, but at the same time the block cannot have an empty body.\n",
    " In this case, we use the $pass$ statement to construct a body that does nothing.\n"
   ]
  },
  {
   "cell_type": "code",
   "execution_count": 22,
   "metadata": {},
   "outputs": [],
   "source": [
    "def func():\n",
    "    pass"
   ]
  },
  {
   "cell_type": "markdown",
   "metadata": {},
   "source": [
    "## Functions\n",
    "- Functions are small programming unit inside a big programming construct that generates a designated output.\n",
    "- A method is an identical function in terms of name except that it is called on object and passed on the data, whereas a function is called directly by name and passed on the data to operate.\n",
    "\n",
    "### Categories of Functions\n",
    "- Functions in any programming language can fall into two broad categories: \n",
    "    - Built-in functions\n",
    "    - User-defined functions"
   ]
  },
  {
   "cell_type": "markdown",
   "metadata": {},
   "source": [
    "## Built-in function\n",
    "- Many of the functions we have been using are built-in functions such as len(), sum(), min(), max(), e.t.c.\n",
    "\n",
    "### User-defined functions\n",
    "- They are defined by users as per their programming requirement.\n",
    "\n",
    "### Function Definition\n",
    "- Use the $def$ keyword followed by function name with parentheses () \n",
    "- Any argument to the function must be placed within these parentheses ()\n",
    "- The code block must start with a colon : \n",
    "- The code within the function must be indented "
   ]
  },
  {
   "cell_type": "code",
   "execution_count": 24,
   "metadata": {},
   "outputs": [
    {
     "name": "stdout",
     "output_type": "stream",
     "text": [
      "Welcome, Home!\n"
     ]
    }
   ],
   "source": [
    "# write a function to print \"Hello World!\"\n",
    "def hello_world():   # this function has no argument\n",
    "    print(\"Welcome, Home!\")\n",
    "hello_world()"
   ]
  },
  {
   "cell_type": "markdown",
   "metadata": {},
   "source": [
    "## Functions with argument"
   ]
  },
  {
   "cell_type": "code",
   "execution_count": 26,
   "metadata": {},
   "outputs": [
    {
     "data": {
      "text/plain": [
       "500"
      ]
     },
     "execution_count": 26,
     "metadata": {},
     "output_type": "execute_result"
    }
   ],
   "source": [
    "# write a function to sum two numbers\n",
    "def product(a, b):\n",
    "    c = a * b\n",
    "    return c\n",
    "product(10, 50)"
   ]
  },
  {
   "cell_type": "markdown",
   "metadata": {},
   "source": [
    "## Function with Default argument"
   ]
  },
  {
   "cell_type": "code",
   "execution_count": 30,
   "metadata": {},
   "outputs": [
    {
     "name": "stdout",
     "output_type": "stream",
     "text": [
      "Name is  Kenny\n",
      "Age is  50\n"
     ]
    }
   ],
   "source": [
    "def info(name, age = 50):\n",
    "    print(\"Name is \", name)\n",
    "    print(\"Age is \", age)\n",
    "#info(\"Kenny\")\n",
    "info(\"Kenny\")"
   ]
  },
  {
   "cell_type": "markdown",
   "metadata": {},
   "source": [
    "## Function with variable length\n",
    "- There might be a scenario where you need to pass more arguments than specified\n",
    "during the function definition. In this case, variable length arguments can be \n",
    "passed:\n",
    "    - Syntax:\n",
    "        - def  function_name(arg, *var):        \n",
    "            "
   ]
  },
  {
   "cell_type": "code",
   "execution_count": 33,
   "metadata": {},
   "outputs": [
    {
     "name": "stdout",
     "output_type": "stream",
     "text": [
      "100\n",
      "Other variables are  (120, 135, 200)\n",
      "Other variables are  (120, 135, 200)\n",
      "Other variables are  (120, 135, 200)\n"
     ]
    }
   ],
   "source": [
    "def variable(var1, *vari):\n",
    "    print(var1)\n",
    "    for var in vari:\n",
    "        print('Other variables are ',vari)\n",
    "#variable(60)\n",
    "variable(100, 120, 135, 200)"
   ]
  },
  {
   "cell_type": "markdown",
   "metadata": {},
   "source": [
    "## Lambda function\n",
    "-  A lambda function is a small anonymous function.\n",
    "\n",
    "\n",
    "- A lambda function can take any number of arguments, but can only have one expression.\n",
    "\n",
    "\n",
    "### Syntax\n",
    "- lambda arguments : expression\n",
    "\n",
    "\n"
   ]
  },
  {
   "cell_type": "code",
   "execution_count": 34,
   "metadata": {},
   "outputs": [
    {
     "data": {
      "text/plain": [
       "40"
      ]
     },
     "execution_count": 34,
     "metadata": {},
     "output_type": "execute_result"
    }
   ],
   "source": [
    "# A lambda function that adds 10 to the number passed in as an argument\n",
    "x = lambda b: b + 10\n",
    "x(30)"
   ]
  },
  {
   "cell_type": "code",
   "execution_count": 35,
   "metadata": {},
   "outputs": [
    {
     "data": {
      "text/plain": [
       "100"
      ]
     },
     "execution_count": 35,
     "metadata": {},
     "output_type": "execute_result"
    }
   ],
   "source": [
    "# A lambda function that multiplies argument a with argument b\n",
    "y = lambda a, b: a * b\n",
    "y(20, 5)"
   ]
  },
  {
   "cell_type": "code",
   "execution_count": 13,
   "metadata": {},
   "outputs": [
    {
     "data": {
      "text/plain": [
       "52"
      ]
     },
     "execution_count": 13,
     "metadata": {},
     "output_type": "execute_result"
    }
   ],
   "source": [
    "# A lambda function that sums argument a, b, and c\n",
    "x = lambda a, b, c: a + b + c\n",
    "\n",
    "x(5, 12, 35)"
   ]
  },
  {
   "cell_type": "markdown",
   "metadata": {},
   "source": [
    "## Using lambda with user-defined function"
   ]
  },
  {
   "cell_type": "code",
   "execution_count": 36,
   "metadata": {},
   "outputs": [],
   "source": [
    "def myfunc(n):\n",
    "    return lambda a: a * n"
   ]
  },
  {
   "cell_type": "code",
   "execution_count": 37,
   "metadata": {},
   "outputs": [
    {
     "data": {
      "text/plain": [
       "100"
      ]
     },
     "execution_count": 37,
     "metadata": {},
     "output_type": "execute_result"
    }
   ],
   "source": [
    "doubler = myfunc(5)\n",
    "doubler(20)"
   ]
  },
  {
   "cell_type": "markdown",
   "metadata": {},
   "source": [
    "## Exercise\n",
    "- Write a Python function to multiply all the numbers in a list: [8, 2, 3, -1, 7]\n",
    "    \n",
    "    \n",
    "    \n",
    "- Write a Python function to collect worker's number of hours worked per week and the wage \n",
    "rate per hour, and then find the total payment for each worker. But, if the hours worked per week is \n",
    "more than 40 hours, then the wroker gets 5% bonus.\n",
    "\n",
    "\n",
    "\n",
    "- Write a Python program to find the Factorial of a number."
   ]
  },
  {
   "cell_type": "code",
   "execution_count": 2,
   "metadata": {},
   "outputs": [
    {
     "name": "stdout",
     "output_type": "stream",
     "text": [
      "Enter the hours worked per week: 45\n",
      "Enter your wage: 50\n"
     ]
    },
    {
     "data": {
      "text/plain": [
       "2250.25"
      ]
     },
     "execution_count": 2,
     "metadata": {},
     "output_type": "execute_result"
    }
   ],
   "source": [
    "def pay():\n",
    "    hours = int(input(\"Enter the hours worked per week: \"))\n",
    "    wages = float(input(\"Enter your wage: \"))\n",
    "    pay_amt = hours * wages\n",
    "    if hours > 40:\n",
    "        pay_amt = hours * wages + (0.05 * (hours - 40))\n",
    "    return pay_amt\n",
    "pay()"
   ]
  },
  {
   "cell_type": "code",
   "execution_count": 11,
   "metadata": {},
   "outputs": [
    {
     "data": {
      "text/plain": [
       "720"
      ]
     },
     "execution_count": 11,
     "metadata": {},
     "output_type": "execute_result"
    }
   ],
   "source": [
    "def factorial(n):\n",
    "    if n == 0:\n",
    "        return 1\n",
    "    else:\n",
    "        \n",
    "        return n * factorial(n - 1)\n",
    "factorial(6)"
   ]
  },
  {
   "cell_type": "code",
   "execution_count": null,
   "metadata": {},
   "outputs": [],
   "source": []
  }
 ],
 "metadata": {
  "kernelspec": {
   "display_name": "Python 3",
   "language": "python",
   "name": "python3"
  },
  "language_info": {
   "codemirror_mode": {
    "name": "ipython",
    "version": 3
   },
   "file_extension": ".py",
   "mimetype": "text/x-python",
   "name": "python",
   "nbconvert_exporter": "python",
   "pygments_lexer": "ipython3",
   "version": "3.7.7"
  }
 },
 "nbformat": 4,
 "nbformat_minor": 4
}
